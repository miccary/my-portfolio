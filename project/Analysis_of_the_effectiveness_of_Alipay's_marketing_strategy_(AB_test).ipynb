 "cells": [
  {
   "cell_type": "markdown",
   "id": "6a3c5fbb",
   "metadata": {},
   "source": [
    "programmer: Cary Wu\n",
    "\n",
    "Date: Sep 5, 2024\n",
    "\n",
    "ABtest used to compare the difference between different designs and operational programme to asistance decision.\n",
    "\n",
    "In this analyse,we used Alipay's marketing advertisement dataset. and compare the effectiveness of Advertisement Delivery with advertisment clicked rate."
   ]
  },
  {
   "cell_type": "markdown",
   "id": "507efa40",
   "metadata": {},
   "source": [
    "**1、Data Understanding**\n",
    "\n",
    "this dataset comes from the Alicloud - Audience Expansion Dataset, which contains users' fratures, effectiveness of taobao and user's genre.\n",
    "\n",
    "features dictionary\n",
    "\n",
    "**dmp_id**: marketing strategy number (the source data document does not specify, here according to the data set to 1: control group, 2: marketing strategy 1, 3: marketing strategy 2)\n",
    "\n",
    "**user_id**: Alipay user ID\n",
    "\n",
    "**label**: Whether the user clicked on the campaign advertisement on the same day (0: not clicked, 1: clicked).\n",
    "\n",
    "**dt**: diary time"
   ]
  },
  {
   "cell_type": "code",
   "execution_count": null,
   "id": "ce295e31",
   "metadata": {},
   "outputs": [],
   "source": []
  },
  {
   "cell_type": "markdown",
   "id": "9277ad9d",
   "metadata": {},
   "source": [
    "**2、Data Processing**"
   ]
  },
  {
   "cell_type": "code",
   "execution_count": 24,
   "id": "746a2138",
   "metadata": {},
   "outputs": [],
   "source": [
    "import numpy as np\n",
    "import pandas as pd\n",
    "import matplotlib.pyplot as plt\n",
    "from scipy.stats import norm"
   ]
  },
  {
   "cell_type": "code",
   "execution_count": 3,
   "id": "21fc93cd",
   "metadata": {},
   "outputs": [],
   "source": [
    "df_effect_tb=pd.read_csv('effect_tb.csv')\n",
    "df_effect_tb.columns = [\"dt\",\"user_id\",\"label\",\"dmp_id\"]"
   ]
  },
  {
   "cell_type": "code",
   "execution_count": 4,
   "id": "c627272a",
   "metadata": {},
   "outputs": [
    {
     "data": {
      "text/html": [
       "<div>\n",
       "<style scoped>\n",
       "    .dataframe tbody tr th:only-of-type {\n",
       "        vertical-align: middle;\n",
       "    }\n",
       "\n",
       "    .dataframe tbody tr th {\n",
       "        vertical-align: top;\n",
       "    }\n",
       "\n",
       "    .dataframe thead th {\n",
       "        text-align: right;\n",
       "    }\n",
       "</style>\n",
       "<table border=\"1\" class=\"dataframe\">\n",
       "  <thead>\n",
       "    <tr style=\"text-align: right;\">\n",
       "      <th></th>\n",
       "      <th>dt</th>\n",
       "      <th>user_id</th>\n",
       "      <th>label</th>\n",
       "      <th>dmp_id</th>\n",
       "    </tr>\n",
       "  </thead>\n",
       "  <tbody>\n",
       "    <tr>\n",
       "      <th>0</th>\n",
       "      <td>1</td>\n",
       "      <td>1000004</td>\n",
       "      <td>0</td>\n",
       "      <td>1</td>\n",
       "    </tr>\n",
       "    <tr>\n",
       "      <th>1</th>\n",
       "      <td>1</td>\n",
       "      <td>1000004</td>\n",
       "      <td>0</td>\n",
       "      <td>2</td>\n",
       "    </tr>\n",
       "    <tr>\n",
       "      <th>2</th>\n",
       "      <td>1</td>\n",
       "      <td>1000006</td>\n",
       "      <td>0</td>\n",
       "      <td>1</td>\n",
       "    </tr>\n",
       "    <tr>\n",
       "      <th>3</th>\n",
       "      <td>1</td>\n",
       "      <td>1000006</td>\n",
       "      <td>0</td>\n",
       "      <td>3</td>\n",
       "    </tr>\n",
       "    <tr>\n",
       "      <th>4</th>\n",
       "      <td>1</td>\n",
       "      <td>1000007</td>\n",
       "      <td>0</td>\n",
       "      <td>1</td>\n",
       "    </tr>\n",
       "  </tbody>\n",
       "</table>\n",
       "</div>"
      ],
      "text/plain": [
       "   dt  user_id  label  dmp_id\n",
       "0   1  1000004      0       1\n",
       "1   1  1000004      0       2\n",
       "2   1  1000006      0       1\n",
       "3   1  1000006      0       3\n",
       "4   1  1000007      0       1"
      ]
     },
     "execution_count": 4,
     "metadata": {},
     "output_type": "execute_result"
    }
   ],
   "source": [
    "df_effect_tb.head()"
   ]
  },
  {
   "cell_type": "code",
   "execution_count": 5,
   "id": "c2085841",
   "metadata": {},
   "outputs": [
    {
     "data": {
      "text/html": [
       "<div>\n",
       "<style scoped>\n",
       "    .dataframe tbody tr th:only-of-type {\n",
       "        vertical-align: middle;\n",
       "    }\n",
       "\n",
       "    .dataframe tbody tr th {\n",
       "        vertical-align: top;\n",
       "    }\n",
       "\n",
       "    .dataframe thead th {\n",
       "        text-align: right;\n",
       "    }\n",
       "</style>\n",
       "<table border=\"1\" class=\"dataframe\">\n",
       "  <thead>\n",
       "    <tr style=\"text-align: right;\">\n",
       "      <th></th>\n",
       "      <th>user_id</th>\n",
       "      <th>label</th>\n",
       "      <th>dmp_id</th>\n",
       "    </tr>\n",
       "  </thead>\n",
       "  <tbody>\n",
       "    <tr>\n",
       "      <th>0</th>\n",
       "      <td>1000004</td>\n",
       "      <td>0</td>\n",
       "      <td>1</td>\n",
       "    </tr>\n",
       "    <tr>\n",
       "      <th>1</th>\n",
       "      <td>1000004</td>\n",
       "      <td>0</td>\n",
       "      <td>2</td>\n",
       "    </tr>\n",
       "    <tr>\n",
       "      <th>2</th>\n",
       "      <td>1000006</td>\n",
       "      <td>0</td>\n",
       "      <td>1</td>\n",
       "    </tr>\n",
       "    <tr>\n",
       "      <th>3</th>\n",
       "      <td>1000006</td>\n",
       "      <td>0</td>\n",
       "      <td>3</td>\n",
       "    </tr>\n",
       "    <tr>\n",
       "      <th>4</th>\n",
       "      <td>1000007</td>\n",
       "      <td>0</td>\n",
       "      <td>1</td>\n",
       "    </tr>\n",
       "    <tr>\n",
       "      <th>...</th>\n",
       "      <td>...</td>\n",
       "      <td>...</td>\n",
       "      <td>...</td>\n",
       "    </tr>\n",
       "    <tr>\n",
       "      <th>2645952</th>\n",
       "      <td>999966</td>\n",
       "      <td>0</td>\n",
       "      <td>1</td>\n",
       "    </tr>\n",
       "    <tr>\n",
       "      <th>2645953</th>\n",
       "      <td>999971</td>\n",
       "      <td>0</td>\n",
       "      <td>1</td>\n",
       "    </tr>\n",
       "    <tr>\n",
       "      <th>2645954</th>\n",
       "      <td>99999</td>\n",
       "      <td>0</td>\n",
       "      <td>2</td>\n",
       "    </tr>\n",
       "    <tr>\n",
       "      <th>2645955</th>\n",
       "      <td>999990</td>\n",
       "      <td>0</td>\n",
       "      <td>1</td>\n",
       "    </tr>\n",
       "    <tr>\n",
       "      <th>2645956</th>\n",
       "      <td>999992</td>\n",
       "      <td>1</td>\n",
       "      <td>1</td>\n",
       "    </tr>\n",
       "  </tbody>\n",
       "</table>\n",
       "<p>2645957 rows × 3 columns</p>\n",
       "</div>"
      ],
      "text/plain": [
       "         user_id  label  dmp_id\n",
       "0        1000004      0       1\n",
       "1        1000004      0       2\n",
       "2        1000006      0       1\n",
       "3        1000006      0       3\n",
       "4        1000007      0       1\n",
       "...          ...    ...     ...\n",
       "2645952   999966      0       1\n",
       "2645953   999971      0       1\n",
       "2645954    99999      0       2\n",
       "2645955   999990      0       1\n",
       "2645956   999992      1       1\n",
       "\n",
       "[2645957 rows x 3 columns]"
      ]
     },
     "execution_count": 5,
     "metadata": {},
     "output_type": "execute_result"
    }
   ],
   "source": [
    "df_effect_tb=df_effect_tb.drop(columns=\"dt\")\n",
    "df_effect_tb"
   ]
  },
  {
   "cell_type": "code",
   "execution_count": 6,
   "id": "c8b883be",
   "metadata": {},
   "outputs": [
    {
     "data": {
      "text/html": [
       "<div>\n",
       "<style scoped>\n",
       "    .dataframe tbody tr th:only-of-type {\n",
       "        vertical-align: middle;\n",
       "    }\n",
       "\n",
       "    .dataframe tbody tr th {\n",
       "        vertical-align: top;\n",
       "    }\n",
       "\n",
       "    .dataframe thead th {\n",
       "        text-align: right;\n",
       "    }\n",
       "</style>\n",
       "<table border=\"1\" class=\"dataframe\">\n",
       "  <thead>\n",
       "    <tr style=\"text-align: right;\">\n",
       "      <th></th>\n",
       "      <th>user_id</th>\n",
       "      <th>label</th>\n",
       "      <th>dmp_id</th>\n",
       "    </tr>\n",
       "  </thead>\n",
       "  <tbody>\n",
       "    <tr>\n",
       "      <th>count</th>\n",
       "      <td>2.645957e+06</td>\n",
       "      <td>2.645957e+06</td>\n",
       "      <td>2.645957e+06</td>\n",
       "    </tr>\n",
       "    <tr>\n",
       "      <th>mean</th>\n",
       "      <td>3.112996e+06</td>\n",
       "      <td>1.456297e-02</td>\n",
       "      <td>1.395762e+00</td>\n",
       "    </tr>\n",
       "    <tr>\n",
       "      <th>std</th>\n",
       "      <td>1.828261e+06</td>\n",
       "      <td>1.197952e-01</td>\n",
       "      <td>6.920481e-01</td>\n",
       "    </tr>\n",
       "    <tr>\n",
       "      <th>min</th>\n",
       "      <td>1.100000e+01</td>\n",
       "      <td>0.000000e+00</td>\n",
       "      <td>1.000000e+00</td>\n",
       "    </tr>\n",
       "    <tr>\n",
       "      <th>25%</th>\n",
       "      <td>1.526777e+06</td>\n",
       "      <td>0.000000e+00</td>\n",
       "      <td>1.000000e+00</td>\n",
       "    </tr>\n",
       "    <tr>\n",
       "      <th>50%</th>\n",
       "      <td>3.062185e+06</td>\n",
       "      <td>0.000000e+00</td>\n",
       "      <td>1.000000e+00</td>\n",
       "    </tr>\n",
       "    <tr>\n",
       "      <th>75%</th>\n",
       "      <td>4.721132e+06</td>\n",
       "      <td>0.000000e+00</td>\n",
       "      <td>2.000000e+00</td>\n",
       "    </tr>\n",
       "    <tr>\n",
       "      <th>max</th>\n",
       "      <td>6.265402e+06</td>\n",
       "      <td>1.000000e+00</td>\n",
       "      <td>3.000000e+00</td>\n",
       "    </tr>\n",
       "  </tbody>\n",
       "</table>\n",
       "</div>"
      ],
      "text/plain": [
       "            user_id         label        dmp_id\n",
       "count  2.645957e+06  2.645957e+06  2.645957e+06\n",
       "mean   3.112996e+06  1.456297e-02  1.395762e+00\n",
       "std    1.828261e+06  1.197952e-01  6.920481e-01\n",
       "min    1.100000e+01  0.000000e+00  1.000000e+00\n",
       "25%    1.526777e+06  0.000000e+00  1.000000e+00\n",
       "50%    3.062185e+06  0.000000e+00  1.000000e+00\n",
       "75%    4.721132e+06  0.000000e+00  2.000000e+00\n",
       "max    6.265402e+06  1.000000e+00  3.000000e+00"
      ]
     },
     "execution_count": 6,
     "metadata": {},
     "output_type": "execute_result"
    }
   ],
   "source": [
    "# table summary\n",
    "df_effect_tb.describe ()"
   ]
  },
  {
   "cell_type": "code",
   "execution_count": 7,
   "id": "c09ae6b0",
   "metadata": {},
   "outputs": [
    {
     "name": "stdout",
     "output_type": "stream",
     "text": [
      "<class 'pandas.core.frame.DataFrame'>\n",
      "RangeIndex: 2645957 entries, 0 to 2645956\n",
      "Data columns (total 3 columns):\n",
      " #   Column   Dtype\n",
      "---  ------   -----\n",
      " 0   user_id  int64\n",
      " 1   label    int64\n",
      " 2   dmp_id   int64\n",
      "dtypes: int64(3)\n",
      "memory usage: 60.6 MB\n"
     ]
    }
   ],
   "source": [
    "#shape of df_effect_tb\n",
    "df_effect_tb.info()"
   ]
  },
  {
   "cell_type": "code",
   "execution_count": 8,
   "id": "8293baf7",
   "metadata": {},
   "outputs": [
    {
     "data": {
      "text/plain": [
       "user_id    2410682\n",
       "label            2\n",
       "dmp_id           3\n",
       "dtype: int64"
      ]
     },
     "execution_count": 8,
     "metadata": {},
     "output_type": "execute_result"
    }
   ],
   "source": [
    "#distince count of columns\n",
    "df_effect_tb.nunique()"
   ]
  },
  {
   "cell_type": "markdown",
   "id": "ebb2a4af",
   "metadata": {},
   "source": [
    "the number of record is not fit the number of unique clients, checck the duplicate rows"
   ]
  },
  {
   "cell_type": "code",
   "execution_count": 9,
   "id": "3908f6ff",
   "metadata": {},
   "outputs": [
    {
     "data": {
      "text/html": [
       "<div>\n",
       "<style scoped>\n",
       "    .dataframe tbody tr th:only-of-type {\n",
       "        vertical-align: middle;\n",
       "    }\n",
       "\n",
       "    .dataframe tbody tr th {\n",
       "        vertical-align: top;\n",
       "    }\n",
       "\n",
       "    .dataframe thead th {\n",
       "        text-align: right;\n",
       "    }\n",
       "</style>\n",
       "<table border=\"1\" class=\"dataframe\">\n",
       "  <thead>\n",
       "    <tr style=\"text-align: right;\">\n",
       "      <th></th>\n",
       "      <th>user_id</th>\n",
       "      <th>label</th>\n",
       "      <th>dmp_id</th>\n",
       "    </tr>\n",
       "  </thead>\n",
       "  <tbody>\n",
       "    <tr>\n",
       "      <th>8528</th>\n",
       "      <td>1027</td>\n",
       "      <td>0</td>\n",
       "      <td>1</td>\n",
       "    </tr>\n",
       "    <tr>\n",
       "      <th>1485545</th>\n",
       "      <td>1027</td>\n",
       "      <td>0</td>\n",
       "      <td>1</td>\n",
       "    </tr>\n",
       "    <tr>\n",
       "      <th>1579414</th>\n",
       "      <td>1471</td>\n",
       "      <td>0</td>\n",
       "      <td>1</td>\n",
       "    </tr>\n",
       "    <tr>\n",
       "      <th>127826</th>\n",
       "      <td>1471</td>\n",
       "      <td>0</td>\n",
       "      <td>1</td>\n",
       "    </tr>\n",
       "    <tr>\n",
       "      <th>404861</th>\n",
       "      <td>2468</td>\n",
       "      <td>0</td>\n",
       "      <td>1</td>\n",
       "    </tr>\n",
       "    <tr>\n",
       "      <th>...</th>\n",
       "      <td>...</td>\n",
       "      <td>...</td>\n",
       "      <td>...</td>\n",
       "    </tr>\n",
       "    <tr>\n",
       "      <th>1382120</th>\n",
       "      <td>6264633</td>\n",
       "      <td>0</td>\n",
       "      <td>1</td>\n",
       "    </tr>\n",
       "    <tr>\n",
       "      <th>1382244</th>\n",
       "      <td>6264940</td>\n",
       "      <td>0</td>\n",
       "      <td>1</td>\n",
       "    </tr>\n",
       "    <tr>\n",
       "      <th>2575139</th>\n",
       "      <td>6264940</td>\n",
       "      <td>0</td>\n",
       "      <td>1</td>\n",
       "    </tr>\n",
       "    <tr>\n",
       "      <th>1382305</th>\n",
       "      <td>6265082</td>\n",
       "      <td>0</td>\n",
       "      <td>3</td>\n",
       "    </tr>\n",
       "    <tr>\n",
       "      <th>2575170</th>\n",
       "      <td>6265082</td>\n",
       "      <td>0</td>\n",
       "      <td>3</td>\n",
       "    </tr>\n",
       "  </tbody>\n",
       "</table>\n",
       "<p>25966 rows × 3 columns</p>\n",
       "</div>"
      ],
      "text/plain": [
       "         user_id  label  dmp_id\n",
       "8528        1027      0       1\n",
       "1485545     1027      0       1\n",
       "1579414     1471      0       1\n",
       "127826      1471      0       1\n",
       "404861      2468      0       1\n",
       "...          ...    ...     ...\n",
       "1382120  6264633      0       1\n",
       "1382244  6264940      0       1\n",
       "2575139  6264940      0       1\n",
       "1382305  6265082      0       3\n",
       "2575170  6265082      0       3\n",
       "\n",
       "[25966 rows x 3 columns]"
      ]
     },
     "execution_count": 9,
     "metadata": {},
     "output_type": "execute_result"
    }
   ],
   "source": [
    "df_effect_tb[df_effect_tb.duplicated(keep=False)].sort_values(by=[\"user_id\"])"
   ]
  },
  {
   "cell_type": "code",
   "execution_count": 10,
   "id": "df9c6f87",
   "metadata": {},
   "outputs": [],
   "source": [
    "df_effect_tb=df_effect_tb.drop_duplicates()"
   ]
  },
  {
   "cell_type": "code",
   "execution_count": 11,
   "id": "06f152e4",
   "metadata": {},
   "outputs": [
    {
     "data": {
      "text/html": [
       "<div>\n",
       "<style scoped>\n",
       "    .dataframe tbody tr th:only-of-type {\n",
       "        vertical-align: middle;\n",
       "    }\n",
       "\n",
       "    .dataframe tbody tr th {\n",
       "        vertical-align: top;\n",
       "    }\n",
       "\n",
       "    .dataframe thead th {\n",
       "        text-align: right;\n",
       "    }\n",
       "</style>\n",
       "<table border=\"1\" class=\"dataframe\">\n",
       "  <thead>\n",
       "    <tr style=\"text-align: right;\">\n",
       "      <th></th>\n",
       "      <th>user_id</th>\n",
       "      <th>label</th>\n",
       "      <th>dmp_id</th>\n",
       "    </tr>\n",
       "  </thead>\n",
       "  <tbody>\n",
       "  </tbody>\n",
       "</table>\n",
       "</div>"
      ],
      "text/plain": [
       "Empty DataFrame\n",
       "Columns: [user_id, label, dmp_id]\n",
       "Index: []"
      ]
     },
     "execution_count": 11,
     "metadata": {},
     "output_type": "execute_result"
    }
   ],
   "source": [
    "df_effect_tb[df_effect_tb.duplicated(keep=False)]"
   ]
  },
  {
   "cell_type": "markdown",
   "id": "6fc755f6",
   "metadata": {},
   "source": [
    "check null value"
   ]
  },
  {
   "cell_type": "code",
   "execution_count": 12,
   "id": "cc12df04",
   "metadata": {},
   "outputs": [
    {
     "name": "stdout",
     "output_type": "stream",
     "text": [
      "<class 'pandas.core.frame.DataFrame'>\n",
      "Int64Index: 2632974 entries, 0 to 2645956\n",
      "Data columns (total 3 columns):\n",
      " #   Column   Non-Null Count    Dtype\n",
      "---  ------   --------------    -----\n",
      " 0   user_id  2632974 non-null  int64\n",
      " 1   label    2632974 non-null  int64\n",
      " 2   dmp_id   2632974 non-null  int64\n",
      "dtypes: int64(3)\n",
      "memory usage: 80.4 MB\n"
     ]
    },
    {
     "name": "stderr",
     "output_type": "stream",
     "text": [
      "<ipython-input-12-88f0ce1eedc9>:1: FutureWarning: null_counts is deprecated. Use show_counts instead\n",
      "  df_effect_tb.info(null_counts=True)\n"
     ]
    }
   ],
   "source": [
    "df_effect_tb.info(null_counts=True)"
   ]
  },
  {
   "cell_type": "markdown",
   "id": "ca5c0284",
   "metadata": {},
   "source": [
    "abnormal value check"
   ]
  },
  {
   "cell_type": "code",
   "execution_count": 13,
   "id": "63636165",
   "metadata": {},
   "outputs": [
    {
     "data": {
      "text/html": [
       "<div>\n",
       "<style scoped>\n",
       "    .dataframe tbody tr th:only-of-type {\n",
       "        vertical-align: middle;\n",
       "    }\n",
       "\n",
       "    .dataframe tbody tr th {\n",
       "        vertical-align: top;\n",
       "    }\n",
       "\n",
       "    .dataframe thead th {\n",
       "        text-align: right;\n",
       "    }\n",
       "</style>\n",
       "<table border=\"1\" class=\"dataframe\">\n",
       "  <thead>\n",
       "    <tr style=\"text-align: right;\">\n",
       "      <th>label</th>\n",
       "      <th>0</th>\n",
       "      <th>1</th>\n",
       "      <th>All</th>\n",
       "    </tr>\n",
       "    <tr>\n",
       "      <th>dmp_id</th>\n",
       "      <th></th>\n",
       "      <th></th>\n",
       "      <th></th>\n",
       "    </tr>\n",
       "  </thead>\n",
       "  <tbody>\n",
       "    <tr>\n",
       "      <th>1</th>\n",
       "      <td>1881744</td>\n",
       "      <td>23918</td>\n",
       "      <td>1905662</td>\n",
       "    </tr>\n",
       "    <tr>\n",
       "      <th>2</th>\n",
       "      <td>404811</td>\n",
       "      <td>6296</td>\n",
       "      <td>411107</td>\n",
       "    </tr>\n",
       "    <tr>\n",
       "      <th>3</th>\n",
       "      <td>307923</td>\n",
       "      <td>8282</td>\n",
       "      <td>316205</td>\n",
       "    </tr>\n",
       "    <tr>\n",
       "      <th>All</th>\n",
       "      <td>2594478</td>\n",
       "      <td>38496</td>\n",
       "      <td>2632974</td>\n",
       "    </tr>\n",
       "  </tbody>\n",
       "</table>\n",
       "</div>"
      ],
      "text/plain": [
       "label         0      1      All\n",
       "dmp_id                         \n",
       "1       1881744  23918  1905662\n",
       "2        404811   6296   411107\n",
       "3        307923   8282   316205\n",
       "All     2594478  38496  2632974"
      ]
     },
     "execution_count": 13,
     "metadata": {},
     "output_type": "execute_result"
    }
   ],
   "source": [
    "df_effect_tb.pivot_table(index=\"dmp_id\",columns=\"label\",values=\"user_id\",aggfunc=\"count\",margins=True)"
   ]
  },
  {
   "cell_type": "markdown",
   "id": "545687c0",
   "metadata": {},
   "source": [
    "Prior to A/B testing, it is necessary to check that the sample size meets the minimum required for the test. Here we use Evan Miller's sample size calculator: Sample Size Calculator.\n",
    "Firstly, we need to set the baseline for the click-through rate and the minimum percentage of lift, so we will set the control group's click-through rate as the baseline. "
   ]
  },
  {
   "cell_type": "code",
   "execution_count": 14,
   "id": "92a32837",
   "metadata": {},
   "outputs": [
    {
     "data": {
      "text/plain": [
       "0.012551019015964006"
      ]
     },
     "execution_count": 14,
     "metadata": {},
     "output_type": "execute_result"
    }
   ],
   "source": [
    "#click rate of control group\n",
    "df_effect_tb[df_effect_tb['dmp_id']==1][\"label\"].mean()"
   ]
  },
  {
   "cell_type": "markdown",
   "id": "a4bb6376",
   "metadata": {},
   "source": [
    "**the click rate of control objects is 1.26%.** we consume that we wnat new marketing strategy could increase 1% in click rate."
   ]
  },
  {
   "attachments": {
    "image.png": {
     "image/png": "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"
    }
   },
   "cell_type": "markdown",
   "id": "2e8a431e",
   "metadata": {},
   "source": [
    "![image.png](attachment:image.png)\n",
    "\n",
    "\n",
    "From calculation, we can get the minimal sampling size is 2167 to indentify the increase"
   ]
  },
  {
   "cell_type": "code",
   "execution_count": 15,
   "id": "e2a01402",
   "metadata": {},
   "outputs": [
    {
     "data": {
      "text/plain": [
       "1    1905662\n",
       "2     411107\n",
       "3     316205\n",
       "Name: dmp_id, dtype: int64"
      ]
     },
     "execution_count": 15,
     "metadata": {},
     "output_type": "execute_result"
    }
   ],
   "source": [
    "df_effect_tb['dmp_id'].value_counts()"
   ]
  },
  {
   "cell_type": "markdown",
   "id": "2d82e6ae",
   "metadata": {},
   "source": [
    "The sample sizes of the two marketing campaigns are 411,100 and 316,200 respectively, which meet the minimum sample size requirement."
   ]
  },
  {
   "cell_type": "code",
   "execution_count": 16,
   "id": "0af84de6",
   "metadata": {},
   "outputs": [],
   "source": [
    "df_effect_tb.to_csv(\"effect_tb_output.csv\",index = False)"
   ]
  },
  {
   "cell_type": "markdown",
   "id": "1dbc3ee2",
   "metadata": {},
   "source": [
    "**hypothesis testing**"
   ]
  },
  {
   "cell_type": "code",
   "execution_count": 17,
   "id": "2a0050c9",
   "metadata": {},
   "outputs": [
    {
     "name": "stdout",
     "output_type": "stream",
     "text": [
      "control subjects: 0.012551019015964006\n",
      "Marketing Strategy 1: 0.015314747742072015\n",
      "Marketing Strategy 2: 0.026191869198779274\n"
     ]
    }
   ],
   "source": [
    "#click rate of group\n",
    "print(\"control subjects:\",df_effect_tb[df_effect_tb['dmp_id']==1][\"label\"].mean())\n",
    "print(\"Marketing Strategy 1:\",df_effect_tb[df_effect_tb['dmp_id']==2][\"label\"].mean())\n",
    "print(\"Marketing Strategy 2:\",df_effect_tb[df_effect_tb['dmp_id']==3][\"label\"].mean())"
   ]
  },
  {
   "cell_type": "markdown",
   "id": "16a74974",
   "metadata": {},
   "source": [
    "It can be seen that both Strategy 1 and Strategy 2 have different levels of improvement in click-through rate compared to the control group. However,Strategy 1 improves by 0.5 percentage points, Strategy 2 improves by 1.3 percentage  "
   ]
  },
  {
   "cell_type": "markdown",
   "id": "c43869d3",
   "metadata": {},
   "source": [
    "a. Null and Alternative Hypotheses\n",
    "Let the control group click rate be p1 and the strategy 2 click rate be p2, then: \n",
    "\n",
    "Null Hypothesis HO: p1 >= p2 \n",
    "\n",
    "Alternative Hypothesis H1: p1 < p2\n",
    "\n",
    "b. Distribution type, test type and significance level The samples obey the two-point distribution, independent two-sample, sample size n>30, the overall mean and standard deviation are unknown, so the Z-test is used. The significance level α is 0.05."
   ]
  },
  {
   "cell_type": "code",
   "execution_count": 20,
   "id": "7d8ff782",
   "metadata": {},
   "outputs": [],
   "source": [
    "# Calculate the click-through rate\n",
    "control_click_rate = df_effect_tb[df_effect_tb['dmp_id'] == 1][\"label\"].mean()\n",
    "strategy1_click_rate = df_effect_tb[df_effect_tb['dmp_id'] == 2][\"label\"].mean()\n",
    "strategy2_click_rate = df_effect_tb[df_effect_tb['dmp_id'] == 3][\"label\"].mean()"
   ]
  },
  {
   "cell_type": "code",
   "execution_count": 21,
   "id": "c42fdb33",
   "metadata": {},
   "outputs": [],
   "source": [
    "# Sample size\n",
    "n_control = df_effect_tb[df_effect_tb['dmp_id'] == 1].shape[0]\n",
    "n_strategy1 = df_effect_tb[df_effect_tb['dmp_id'] == 2].shape[0]\n",
    "n_strategy2 = df_effect_tb[df_effect_tb['dmp_id'] == 3].shape[0]"
   ]
  },
  {
   "cell_type": "code",
   "execution_count": 18,
   "id": "3f173f86",
   "metadata": {},
   "outputs": [],
   "source": [
    "# Define the Z-test function\n",
    "def z_test(p1, p2, n1, n2):\n",
    "    p_combined = (p1 * n1 + p2 * n2) / (n1 + n2)\n",
    "    se = np.sqrt(p_combined * (1 - p_combined) * (1/n1 + 1/n2))\n",
    "    z = (p1 - p2) / se\n",
    "    p_value = norm.sf(z)\n",
    "    return z, p_value"
   ]
  },
  {
   "cell_type": "code",
   "execution_count": 25,
   "id": "28008118",
   "metadata": {},
   "outputs": [],
   "source": [
    "# Calculate Z-scores and p-values for marketing strategy 1 vs. control group\n",
    "z1, p_value1 = z_test(strategy1_click_rate, control_click_rate, n_strategy1, n_control)"
   ]
  },
  {
   "cell_type": "code",
   "execution_count": 26,
   "id": "3de34d5b",
   "metadata": {},
   "outputs": [],
   "source": [
    "#Calculate Z-scores and p-values for marketing strategy 2 vs. control group\n",
    "z2, p_value2 = z_test(strategy2_click_rate, control_click_rate, n_strategy2, n_control)"
   ]
  },
  {
   "cell_type": "code",
   "execution_count": 28,
   "id": "9d8dad5b",
   "metadata": {},
   "outputs": [
    {
     "name": "stdout",
     "output_type": "stream",
     "text": [
      "Z-score for marketing strategy 1: 14.1658361296907, pValue: 7.454093047070575e-46\n",
      "Z-score for marketing strategy 2: 59.44164223047762, pValue: 0.0\n"
     ]
    }
   ],
   "source": [
    "# 输出结果\n",
    "print(f\"Z-score for marketing strategy 1: {z1}, pValue: {p_value1}\")\n",
    "print(f\"Z-score for marketing strategy 2: {z2}, pValue: {p_value2}\")"
   ]
  },
  {
   "cell_type": "markdown",
   "id": "fb7386f1",
   "metadata": {},
   "source": [
    "The Z-score for marketing strategy 1 is 14.17 with a very small p-value (close to 0), which indicates that the effect of marketing strategy 1 is significantly more effective compared to the control group.\n",
    "\n",
    "Marketing strategy 2 has a higher Z-score of 59.44 with a p-value of 0.0, which indicates that the effect of strategy 2 is more significant and is almost certain to have a boosting effect on click-through rate."
   ]
  },
  {
   "cell_type": "code",
   "execution_count": null,
   "id": "4a72e6bb",
   "metadata": {},
   "outputs": [],
   "source": []
  }
 ],
 "metadata": {
  "kernelspec": {
   "display_name": "Python 3",
   "language": "python",
   "name": "python3"
  },
  "language_info": {
   "codemirror_mode": {
    "name": "ipython",
    "version": 3
   },
   "file_extension": ".py",
   "mimetype": "text/x-python",
   "name": "python",
   "nbconvert_exporter": "python",
   "pygments_lexer": "ipython3",
   "version": "3.8.8"
  }
 },
 "nbformat": 4,
 "nbformat_minor": 5
}
