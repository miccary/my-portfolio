{
  "nbformat": 4,
  "nbformat_minor": 0,
  "metadata": {
    "colab": {
      "provenance": [],
      "machine_shape": "hm"
    },
    "kernelspec": {
      "name": "python3",
      "display_name": "Python 3"
    },
    "language_info": {
      "name": "python"
    }
  },
  "cells": [
    {
      "cell_type": "markdown",
      "source": [
        "# **Necessary library installation**"
      ],
      "metadata": {
        "id": "Xg0IBNPcFFpD"
      }
    },
    {
      "cell_type": "code",
      "source": [
        "import pandas as pd\n",
        "import matplotlib.pyplot as plt\n",
        "import seaborn as sns\n",
        "import json\n",
        "import os\n"
      ],
      "metadata": {
        "id": "orDSoTpfDynq"
      },
      "execution_count": null,
      "outputs": []
    },
    {
      "cell_type": "code",
      "source": [
        "# Mount Google Drive\n",
        "from google.colab import drive\n",
        "drive.mount('/content/drive')"
      ],
      "metadata": {
        "colab": {
          "base_uri": "https://localhost:8080/"
        },
        "id": "jsHVgSCWzrMk",
        "outputId": "82953654-04f3-45e7-e4c9-0e20c7264be1"
      },
      "execution_count": null,
      "outputs": [
        {
          "output_type": "stream",
          "name": "stdout",
          "text": [
            "Mounted at /content/drive\n"
          ]
        }
      ]
    },
    {
      "cell_type": "markdown",
      "source": [
        "# **Data Import**"
      ],
      "metadata": {
        "id": "us45f0l2FLWZ"
      }
    },
    {
      "cell_type": "markdown",
      "source": [
        "## **actual_sequences**"
      ],
      "metadata": {
        "id": "3g0LjZ_7GJNY"
      }
    },
    {
      "cell_type": "code",
      "source": [
        "with open('/content/drive/MyDrive/actual_sequences.json') as f:\n",
        "    data = json.load(f)"
      ],
      "metadata": {
        "id": "D_zVIszBEYuh"
      },
      "execution_count": null,
      "outputs": []
    },
    {
      "cell_type": "code",
      "source": [
        "# Creating an empty list to store data\n",
        "data_list = []\n",
        "\n",
        "# Traversing JSON Data\n",
        "for route_id, route_data in data.items():\n",
        "    for stop_id, travel_time in route_data['actual'].items():\n",
        "        data_list.append({'RouteID': route_id, 'StopID': stop_id, 'TravelTimeSeconds': travel_time})\n",
        "\n",
        "# Creating a DataFrame\n",
        "actual_sequences = pd.DataFrame(data_list)\n",
        "\n",
        "# View DataFrame\n",
        "print(actual_sequences)\n"
      ],
      "metadata": {
        "colab": {
          "base_uri": "https://localhost:8080/"
        },
        "id": "a9HuOvdDGE_k",
        "outputId": "36aa63ce-1b4c-432c-ce54-87b4f3cb3992"
      },
      "execution_count": null,
      "outputs": [
        {
          "output_type": "stream",
          "name": "stdout",
          "text": [
            "                                             RouteID StopID  TravelTimeSeconds\n",
            "0       RouteID_00143bdd-0a6b-49ec-bb35-36593d303e77     AD                105\n",
            "1       RouteID_00143bdd-0a6b-49ec-bb35-36593d303e77     AF                 47\n",
            "2       RouteID_00143bdd-0a6b-49ec-bb35-36593d303e77     AG                  4\n",
            "3       RouteID_00143bdd-0a6b-49ec-bb35-36593d303e77     BA                 33\n",
            "4       RouteID_00143bdd-0a6b-49ec-bb35-36593d303e77     BE                109\n",
            "...                                              ...    ...                ...\n",
            "904522  RouteID_fffd257c-3041-4736-be7a-5efea8af1173     YU                145\n",
            "904523  RouteID_fffd257c-3041-4736-be7a-5efea8af1173     YW                  4\n",
            "904524  RouteID_fffd257c-3041-4736-be7a-5efea8af1173     ZK                 45\n",
            "904525  RouteID_fffd257c-3041-4736-be7a-5efea8af1173     ZS                 84\n",
            "904526  RouteID_fffd257c-3041-4736-be7a-5efea8af1173     ZX                  3\n",
            "\n",
            "[904527 rows x 3 columns]\n"
          ]
        }
      ]
    },
    {
      "cell_type": "code",
      "source": [
        "print(actual_sequences.info())"
      ],
      "metadata": {
        "colab": {
          "base_uri": "https://localhost:8080/"
        },
        "id": "T2nFj7IC-PKq",
        "outputId": "7ca6fdeb-d5ad-468f-fe30-0dcd1c200c7b"
      },
      "execution_count": null,
      "outputs": [
        {
          "output_type": "stream",
          "name": "stdout",
          "text": [
            "<class 'pandas.core.frame.DataFrame'>\n",
            "RangeIndex: 904527 entries, 0 to 904526\n",
            "Data columns (total 3 columns):\n",
            " #   Column             Non-Null Count   Dtype \n",
            "---  ------             --------------   ----- \n",
            " 0   RouteID            904527 non-null  object\n",
            " 1   StopID             904527 non-null  object\n",
            " 2   TravelTimeSeconds  904527 non-null  int64 \n",
            "dtypes: int64(1), object(2)\n",
            "memory usage: 20.7+ MB\n",
            "None\n"
          ]
        }
      ]
    },
    {
      "cell_type": "markdown",
      "source": [
        "## **New_actual_sequences**"
      ],
      "metadata": {
        "id": "naSDmFule3m9"
      }
    },
    {
      "cell_type": "code",
      "source": [
        "with open('/content/new_actual_sequences.json') as f:\n",
        "    data = json.load(f)"
      ],
      "metadata": {
        "id": "5ARDC9_qe27Q"
      },
      "execution_count": null,
      "outputs": []
    },
    {
      "cell_type": "code",
      "source": [
        "# Creating an empty list to store data\n",
        "data_list = []\n",
        "\n",
        "# Traversing JSON Data\n",
        "for route_id, route_data in data.items():\n",
        "    for stop_id, travel_time in route_data['actual'].items():\n",
        "        data_list.append({'RouteID': route_id, 'StopID': stop_id, 'TravelTimeSeconds': travel_time})\n",
        "\n",
        "# Creating a DataFrame\n",
        "new_actual_sequences = pd.DataFrame(data_list)\n",
        "\n",
        "# View DataFrame\n",
        "print(new_actual_sequences)"
      ],
      "metadata": {
        "colab": {
          "base_uri": "https://localhost:8080/"
        },
        "id": "aDns9ybrfKzD",
        "outputId": "010f5b92-04cd-4fa8-e3b7-2ec2bfec5097"
      },
      "execution_count": null,
      "outputs": [
        {
          "output_type": "stream",
          "name": "stdout",
          "text": [
            "                                           RouteID StopID  TravelTimeSeconds\n",
            "0     RouteID_15baae2d-bf07-4967-956a-173d4036613f     AH                 86\n",
            "1     RouteID_15baae2d-bf07-4967-956a-173d4036613f     AK                140\n",
            "2     RouteID_15baae2d-bf07-4967-956a-173d4036613f     AN                129\n",
            "3     RouteID_15baae2d-bf07-4967-956a-173d4036613f     AU                 24\n",
            "4     RouteID_15baae2d-bf07-4967-956a-173d4036613f     AV                170\n",
            "...                                            ...    ...                ...\n",
            "2046  RouteID_fffd257c-3041-4736-be7a-5efea8af1173     YU                145\n",
            "2047  RouteID_fffd257c-3041-4736-be7a-5efea8af1173     YW                  4\n",
            "2048  RouteID_fffd257c-3041-4736-be7a-5efea8af1173     ZK                 45\n",
            "2049  RouteID_fffd257c-3041-4736-be7a-5efea8af1173     ZS                 84\n",
            "2050  RouteID_fffd257c-3041-4736-be7a-5efea8af1173     ZX                  3\n",
            "\n",
            "[2051 rows x 3 columns]\n"
          ]
        }
      ]
    },
    {
      "cell_type": "code",
      "source": [
        "# Saving of processed data as csv\n",
        "new_actual_sequences.to_csv('new_actual_sequences.csv', index=False)"
      ],
      "metadata": {
        "id": "IsbFctVqf3T_"
      },
      "execution_count": null,
      "outputs": []
    },
    {
      "cell_type": "markdown",
      "source": [
        "## **invalid_sequence_scores**\n"
      ],
      "metadata": {
        "id": "UYHQtTpqkBL2"
      }
    },
    {
      "cell_type": "code",
      "source": [
        "with open('/content/drive/MyDrive/invalid_sequence_scores.json') as f:\n",
        "    data = json.load(f)"
      ],
      "metadata": {
        "id": "n28oTt8pj-Q3"
      },
      "execution_count": null,
      "outputs": []
    },
    {
      "cell_type": "code",
      "source": [
        "# Creating an empty list to store data\n",
        "data_list = []\n",
        "\n",
        "# Traversing JSON Data\n",
        "invalid_sequence_scores = pd.DataFrame(list(data.items()), columns=['RouteID', 'InvalidSequenceScore'])\n",
        "\n",
        "# View DataFrame\n",
        "print(invalid_sequence_scores)\n"
      ],
      "metadata": {
        "colab": {
          "base_uri": "https://localhost:8080/"
        },
        "id": "1trNb8ihkDMI",
        "outputId": "e63befb4-8c9f-4be1-efe7-3028510df207"
      },
      "execution_count": null,
      "outputs": [
        {
          "output_type": "stream",
          "name": "stdout",
          "text": [
            "                                           RouteID  InvalidSequenceScore\n",
            "0     RouteID_00143bdd-0a6b-49ec-bb35-36593d303e77              0.631275\n",
            "1     RouteID_0016bc70-cb8d-48b0-aa55-8ee50bdcdb59              0.447396\n",
            "2     RouteID_001948e9-4675-486d-9ec5-912fd8e0770f              0.585464\n",
            "3     RouteID_001b4ee3-c4f2-467f-932b-c85524d1021f              0.696672\n",
            "4     RouteID_0021a2aa-780f-460d-b09a-f301709e2523              1.246236\n",
            "...                                            ...                   ...\n",
            "6107  RouteID_ffd16e94-e3db-435f-a128-1ddcb2a34e54              0.962153\n",
            "6108  RouteID_ffe98097-93df-44b0-9c45-4fedbafae3f3              0.929612\n",
            "6109  RouteID_ffebb6fc-ce81-46db-b2a1-2750c0333185              0.986821\n",
            "6110  RouteID_fff2548c-1069-4340-8e50-08420efe435d              0.441373\n",
            "6111  RouteID_fffd257c-3041-4736-be7a-5efea8af1173              0.639019\n",
            "\n",
            "[6112 rows x 2 columns]\n"
          ]
        }
      ]
    },
    {
      "cell_type": "code",
      "source": [
        "print(invalid_sequence_scores.info())"
      ],
      "metadata": {
        "colab": {
          "base_uri": "https://localhost:8080/"
        },
        "id": "1DB_oMsmk26p",
        "outputId": "93c880eb-4d3e-405f-c794-0a1d3c4543bf"
      },
      "execution_count": null,
      "outputs": [
        {
          "output_type": "stream",
          "name": "stdout",
          "text": [
            "<class 'pandas.core.frame.DataFrame'>\n",
            "RangeIndex: 6112 entries, 0 to 6111\n",
            "Data columns (total 2 columns):\n",
            " #   Column                Non-Null Count  Dtype  \n",
            "---  ------                --------------  -----  \n",
            " 0   RouteID               6112 non-null   object \n",
            " 1   InvalidSequenceScore  6112 non-null   float64\n",
            "dtypes: float64(1), object(1)\n",
            "memory usage: 95.6+ KB\n",
            "None\n"
          ]
        }
      ]
    },
    {
      "cell_type": "markdown",
      "source": [
        "## **new_invalid_sequence_scores**"
      ],
      "metadata": {
        "id": "DlHl-XHegM3b"
      }
    },
    {
      "cell_type": "code",
      "source": [
        "with open('/content/drive/MyDrive/new_invalid_sequence_scores.json') as f:\n",
        "    data = json.load(f)"
      ],
      "metadata": {
        "id": "vUF5hj91gRpQ",
        "colab": {
          "base_uri": "https://localhost:8080/",
          "height": 166
        },
        "outputId": "ce5be553-81c3-489b-f205-5abf1de5e3c5"
      },
      "execution_count": null,
      "outputs": [
        {
          "output_type": "error",
          "ename": "FileNotFoundError",
          "evalue": "[Errno 2] No such file or directory: '/content/drive/MyDrive/new_invalid_sequence_scores.json'",
          "traceback": [
            "\u001b[0;31m---------------------------------------------------------------------------\u001b[0m",
            "\u001b[0;31mFileNotFoundError\u001b[0m                         Traceback (most recent call last)",
            "\u001b[0;32m<ipython-input-12-16fc1ce784be>\u001b[0m in \u001b[0;36m<cell line: 1>\u001b[0;34m()\u001b[0m\n\u001b[0;32m----> 1\u001b[0;31m \u001b[0;32mwith\u001b[0m \u001b[0mopen\u001b[0m\u001b[0;34m(\u001b[0m\u001b[0;34m'/content/drive/MyDrive/new_invalid_sequence_scores.json'\u001b[0m\u001b[0;34m)\u001b[0m \u001b[0;32mas\u001b[0m \u001b[0mf\u001b[0m\u001b[0;34m:\u001b[0m\u001b[0;34m\u001b[0m\u001b[0;34m\u001b[0m\u001b[0m\n\u001b[0m\u001b[1;32m      2\u001b[0m     \u001b[0mdata\u001b[0m \u001b[0;34m=\u001b[0m \u001b[0mjson\u001b[0m\u001b[0;34m.\u001b[0m\u001b[0mload\u001b[0m\u001b[0;34m(\u001b[0m\u001b[0mf\u001b[0m\u001b[0;34m)\u001b[0m\u001b[0;34m\u001b[0m\u001b[0;34m\u001b[0m\u001b[0m\n",
            "\u001b[0;31mFileNotFoundError\u001b[0m: [Errno 2] No such file or directory: '/content/drive/MyDrive/new_invalid_sequence_scores.json'"
          ]
        }
      ]
    },
    {
      "cell_type": "code",
      "source": [
        "data_list = []\n",
        "new_invalid_sequence_scores = pd.DataFrame(list(data.items()), columns=['RouteID', 'InvalidSequenceScore'])\n",
        "# View DataFrame\n",
        "print(new_invalid_sequence_scores)\n"
      ],
      "metadata": {
        "colab": {
          "base_uri": "https://localhost:8080/"
        },
        "id": "2Kn2JyPygUZH",
        "outputId": "7a1e4944-375c-4df5-a0c6-51a7047123eb"
      },
      "execution_count": null,
      "outputs": [
        {
          "output_type": "stream",
          "name": "stdout",
          "text": [
            "                                           RouteID  InvalidSequenceScore\n",
            "0     RouteID_00143bdd-0a6b-49ec-bb35-36593d303e77              0.631275\n",
            "1     RouteID_0016bc70-cb8d-48b0-aa55-8ee50bdcdb59              0.447396\n",
            "2     RouteID_001948e9-4675-486d-9ec5-912fd8e0770f              0.585464\n",
            "3     RouteID_001b4ee3-c4f2-467f-932b-c85524d1021f              0.696672\n",
            "4     RouteID_0021a2aa-780f-460d-b09a-f301709e2523              1.246236\n",
            "...                                            ...                   ...\n",
            "6107  RouteID_ffd16e94-e3db-435f-a128-1ddcb2a34e54              0.962153\n",
            "6108  RouteID_ffe98097-93df-44b0-9c45-4fedbafae3f3              0.929612\n",
            "6109  RouteID_ffebb6fc-ce81-46db-b2a1-2750c0333185              0.986821\n",
            "6110  RouteID_fff2548c-1069-4340-8e50-08420efe435d              0.441373\n",
            "6111  RouteID_fffd257c-3041-4736-be7a-5efea8af1173              0.639019\n",
            "\n",
            "[6112 rows x 2 columns]\n"
          ]
        }
      ]
    },
    {
      "cell_type": "code",
      "source": [
        "print(new_invalid_sequence_scores.info())"
      ],
      "metadata": {
        "colab": {
          "base_uri": "https://localhost:8080/"
        },
        "id": "Vz1AWf6mgZsR",
        "outputId": "58e58327-3641-4bc6-eb5c-c21e1bcc8aa8"
      },
      "execution_count": null,
      "outputs": [
        {
          "output_type": "stream",
          "name": "stdout",
          "text": [
            "<class 'pandas.core.frame.DataFrame'>\n",
            "RangeIndex: 13 entries, 0 to 12\n",
            "Data columns (total 2 columns):\n",
            " #   Column                Non-Null Count  Dtype  \n",
            "---  ------                --------------  -----  \n",
            " 0   RouteID               13 non-null     object \n",
            " 1   InvalidSequenceScore  13 non-null     float64\n",
            "dtypes: float64(1), object(1)\n",
            "memory usage: 336.0+ bytes\n",
            "None\n"
          ]
        }
      ]
    },
    {
      "cell_type": "code",
      "source": [
        "# Saving of processed data as csv\n",
        "new_invalid_sequence_scores.to_csv('new_invalid_sequence_scores.csv', index=False)"
      ],
      "metadata": {
        "id": "3mPmB3Hngdph"
      },
      "execution_count": null,
      "outputs": []
    },
    {
      "cell_type": "markdown",
      "source": [
        "## **new_package_Data**"
      ],
      "metadata": {
        "id": "tWMhZdmcYW6Q"
      }
    },
    {
      "cell_type": "code",
      "source": [
        "all_data = []\n",
        "\n",
        "# Load the JSON data\n",
        "with open('/content/drive/MyDrive/new_package_data.json') as f:\n",
        "    data = json.load(f)\n",
        "\n",
        "# Process the data\n",
        "for route_id, stops in data.items():\n",
        "    for stop_id, packages in stops.items():\n",
        "        for package_id, package_info in packages.items():\n",
        "            record = {\n",
        "                'RouteID': route_id,\n",
        "                'StopID': stop_id,\n",
        "                'PackageID': package_id,\n",
        "                'start_time_utc': package_info['time_window'].get('start_time_utc', None),\n",
        "                'end_time_utc': package_info['time_window'].get('end_time_utc', None),\n",
        "                'planned_service_time_seconds': package_info.get('planned_service_time_seconds', None),\n",
        "                'depth_cm': package_info['dimensions'].get('depth_cm', None),\n",
        "                'height_cm': package_info['dimensions'].get('height_cm', None),\n",
        "                'width_cm': package_info['dimensions'].get('width_cm', None)\n",
        "            }\n",
        "            all_data.append(record)\n",
        "\n",
        "# Create DataFrame\n",
        "df = pd.DataFrame(all_data)\n",
        "\n",
        "# View DataFrame\n",
        "print(df.head())\n",
        "\n"
      ],
      "metadata": {
        "colab": {
          "base_uri": "https://localhost:8080/"
        },
        "id": "NWCjuv1GLSJq",
        "outputId": "759a01e9-616e-4a99-9c23-fefe1e89e1a3"
      },
      "execution_count": null,
      "outputs": [
        {
          "output_type": "stream",
          "name": "stdout",
          "text": [
            "                                        RouteID StopID  \\\n",
            "0  RouteID_15baae2d-bf07-4967-956a-173d4036613f     AH   \n",
            "1  RouteID_15baae2d-bf07-4967-956a-173d4036613f     AK   \n",
            "2  RouteID_15baae2d-bf07-4967-956a-173d4036613f     AN   \n",
            "3  RouteID_15baae2d-bf07-4967-956a-173d4036613f     AU   \n",
            "4  RouteID_15baae2d-bf07-4967-956a-173d4036613f     AV   \n",
            "\n",
            "                                        PackageID start_time_utc end_time_utc  \\\n",
            "0  PackageID_07017709-2ddd-4c6a-8b7e-ebde70a4f0fa            NaN          NaN   \n",
            "1  PackageID_30d78e0b-3dfd-4123-a392-a187ee55c789            NaN          NaN   \n",
            "2  PackageID_31472e01-c4ac-4281-b9ae-281a152f0d53            NaN          NaN   \n",
            "3  PackageID_180d6ed8-e08c-4a2a-972c-b0d6f1bd68ed            NaN          NaN   \n",
            "4  PackageID_9b96689a-99ef-4fc3-9281-ad7442c746ec            NaN          NaN   \n",
            "\n",
            "   planned_service_time_seconds  depth_cm  height_cm  width_cm  \n",
            "0                          78.0      36.1        7.1      20.8  \n",
            "1                         157.0      28.2        4.8      25.7  \n",
            "2                          60.0      27.4        5.6      24.9  \n",
            "3                          33.0      30.5        2.5      27.9  \n",
            "4                          47.0      30.5        3.8      22.9  \n"
          ]
        }
      ]
    },
    {
      "cell_type": "code",
      "source": [
        "# View basic information about each DataFrame\n",
        "print(df.info())\n",
        "# View descriptive statistics\n",
        "print(df.describe())"
      ],
      "metadata": {
        "id": "mPZ349T6FkrT",
        "colab": {
          "base_uri": "https://localhost:8080/"
        },
        "outputId": "ec72f2b4-b07e-4411-8825-bd433c93fbad"
      },
      "execution_count": null,
      "outputs": [
        {
          "output_type": "stream",
          "name": "stdout",
          "text": [
            "<class 'pandas.core.frame.DataFrame'>\n",
            "RangeIndex: 3129 entries, 0 to 3128\n",
            "Data columns (total 9 columns):\n",
            " #   Column                        Non-Null Count  Dtype  \n",
            "---  ------                        --------------  -----  \n",
            " 0   RouteID                       3129 non-null   object \n",
            " 1   StopID                        3129 non-null   object \n",
            " 2   PackageID                     3129 non-null   object \n",
            " 3   start_time_utc                210 non-null    object \n",
            " 4   end_time_utc                  210 non-null    object \n",
            " 5   planned_service_time_seconds  3129 non-null   float64\n",
            " 6   depth_cm                      3129 non-null   float64\n",
            " 7   height_cm                     3129 non-null   float64\n",
            " 8   width_cm                      3129 non-null   float64\n",
            "dtypes: float64(4), object(5)\n",
            "memory usage: 220.1+ KB\n",
            "None\n",
            "       planned_service_time_seconds     depth_cm    height_cm     width_cm\n",
            "count                   3129.000000  3129.000000  3129.000000  3129.000000\n",
            "mean                      66.064941    34.140812     9.969639    24.948226\n",
            "std                       54.515825     9.376890     7.175136     7.510403\n",
            "min                        4.000000    11.400000     0.200000     6.100000\n",
            "25%                       37.000000    26.400000     4.600000    17.800000\n",
            "50%                       52.000000    32.300000     7.600000    24.100000\n",
            "75%                       75.000000    39.400000    12.700000    29.500000\n",
            "max                      732.000000    79.400000    52.100000    66.000000\n"
          ]
        }
      ]
    },
    {
      "cell_type": "code",
      "source": [
        "# Plotting the distribution of parcel sizes\n",
        "plt.figure(figsize=(10, 6))\n",
        "sns.histplot(df['depth_cm'], bins=50, label='Depth')\n",
        "sns.histplot(df['height_cm'], bins=50, label='Height')\n",
        "sns.histplot(df['width_cm'], bins=50, label='Width')\n",
        "plt.title('New Distribution of Package Dimensions')\n",
        "plt.xlabel('Dimension (cm)')\n",
        "plt.ylabel('Frequency')\n",
        "plt.legend()\n",
        "plt.show()\n"
      ],
      "metadata": {
        "colab": {
          "base_uri": "https://localhost:8080/",
          "height": 554
        },
        "id": "AZN1zU32-yoh",
        "outputId": "7f01fe14-ef40-4a9d-d7b0-ae3d6fd0ae96"
      },
      "execution_count": null,
      "outputs": [
        {
          "output_type": "display_data",
          "data": {
            "text/plain": [
              "<Figure size 1000x600 with 1 Axes>"
            ],
            "image/png": "[encoded data removed]"
          },
          "metadata": {}
        }
      ]
    },
    {
      "cell_type": "code",
      "source": [
        "plt.figure(figsize=(10, 6))\n",
        "sns.histplot(df['planned_service_time_seconds'], bins=30)\n",
        "plt.title('Distribution of Planned Service Time for Packages')\n",
        "plt.show()\n"
      ],
      "metadata": {
        "colab": {
          "base_uri": "https://localhost:8080/",
          "height": 548
        },
        "id": "ZarQ9IHfhg83",
        "outputId": "37add720-c7a0-4141-e933-a998bc1c67f1"
      },
      "execution_count": null,
      "outputs": [
        {
          "output_type": "display_data",
          "data": {
            "text/plain": [
              "<Figure size 1000x600 with 1 Axes>"
            ],
            "image/png": "[encoded data removed]"
          },
          "metadata": {}
        }
      ]
    },
    {
      "cell_type": "code",
      "source": [
        "# Saving of processed data\n",
        "df.to_csv('new_package_data.csv', index=False)"
      ],
      "metadata": {
        "id": "aN-In4o9FqJF"
      },
      "execution_count": null,
      "outputs": []
    },
    {
      "cell_type": "markdown",
      "source": [
        "## **package_Data**"
      ],
      "metadata": {
        "id": "oTq-PuQahR2d"
      }
    },
    {
      "cell_type": "code",
      "source": [
        "all_data = []\n",
        "\n",
        "# Reading split files\n",
        "for filename in os.listdir('/content/drive/MyDrive/splitted_files'):\n",
        "    if filename.endswith('.json'):\n",
        "        with open(f'/content/drive/MyDrive/splitted_files/{filename}') as f:\n",
        "            chunk_data = json.load(f)\n",
        "            for route_id, stops in chunk_data.items():\n",
        "                for stop_id, packages in stops.items():\n",
        "                    for package_id, package_info in packages.items():\n",
        "                        record = {\n",
        "                            'RouteID': route_id,\n",
        "                            'StopID': stop_id,\n",
        "                            'PackageID': package_id,\n",
        "                            'scan_status': package_info['scan_status'],\n",
        "                            'start_time_utc': package_info['time_window']['start_time_utc'],\n",
        "                            'end_time_utc': package_info['time_window']['end_time_utc'],\n",
        "                            'planned_service_time_seconds': package_info['planned_service_time_seconds'],\n",
        "                            'depth_cm': package_info['dimensions']['depth_cm'],\n",
        "                            'height_cm': package_info['dimensions']['height_cm'],\n",
        "                            'width_cm': package_info['dimensions']['width_cm']\n",
        "                        }\n",
        "                        all_data.append(record)\n",
        "\n",
        "# Creating a DataFrame\n",
        "df = pd.DataFrame(all_data)\n",
        "\n",
        "# View DataFrame\n",
        "print(df.head())\n"
      ],
      "metadata": {
        "colab": {
          "base_uri": "https://localhost:8080/"
        },
        "outputId": "093dbf1e-4a08-4f2c-8cf8-0fa5a7054cdc",
        "id": "gIbVusY0hR2e"
      },
      "execution_count": null,
      "outputs": [
        {
          "output_type": "stream",
          "name": "stdout",
          "text": [
            "                                        RouteID StopID  \\\n",
            "0  RouteID_00143bdd-0a6b-49ec-bb35-36593d303e77     AD   \n",
            "1  RouteID_00143bdd-0a6b-49ec-bb35-36593d303e77     AD   \n",
            "2  RouteID_00143bdd-0a6b-49ec-bb35-36593d303e77     AD   \n",
            "3  RouteID_00143bdd-0a6b-49ec-bb35-36593d303e77     AF   \n",
            "4  RouteID_00143bdd-0a6b-49ec-bb35-36593d303e77     AG   \n",
            "\n",
            "                                        PackageID scan_status  \\\n",
            "0  PackageID_9d7fdd03-f2cf-4c6f-9128-028258fc09ea   DELIVERED   \n",
            "1  PackageID_5541e679-b7bd-4992-b288-e862f6c84ae7   DELIVERED   \n",
            "2  PackageID_84d0295b-1adb-4a33-a65e-f7d6247c7a07   DELIVERED   \n",
            "3  PackageID_15c6a204-ec5f-4ced-9c3d-472316cc7759   DELIVERED   \n",
            "4  PackageID_3b28f781-242e-416e-9575-84c7188b8208   DELIVERED   \n",
            "\n",
            "        start_time_utc         end_time_utc  planned_service_time_seconds  \\\n",
            "0                  NaN                  NaN                          59.3   \n",
            "1  2018-07-27 16:00:00  2018-07-28 00:00:00                          59.3   \n",
            "2                  NaN                  NaN                          59.3   \n",
            "3  2018-07-27 16:00:00  2018-07-28 00:00:00                          27.0   \n",
            "4                  NaN                  NaN                          45.0   \n",
            "\n",
            "   depth_cm  height_cm  width_cm  \n",
            "0      25.4        7.6      17.8  \n",
            "1      25.4       12.7      17.8  \n",
            "2      39.4        7.6      31.8  \n",
            "3      30.0        3.0      27.4  \n",
            "4      25.4       12.7      17.8  \n"
          ]
        }
      ]
    },
    {
      "cell_type": "code",
      "source": [
        "# View basic information about each DataFrame\n",
        "print(df.info())\n",
        "# View descriptive statistics\n",
        "print(df.describe())"
      ],
      "metadata": {
        "colab": {
          "base_uri": "https://localhost:8080/"
        },
        "outputId": "9c1bc655-95c9-4695-daac-6e9051a189ef",
        "id": "N0jcKsXvhR2e"
      },
      "execution_count": null,
      "outputs": [
        {
          "output_type": "stream",
          "name": "stdout",
          "text": [
            "<class 'pandas.core.frame.DataFrame'>\n",
            "RangeIndex: 1457175 entries, 0 to 1457174\n",
            "Data columns (total 10 columns):\n",
            " #   Column                        Non-Null Count    Dtype  \n",
            "---  ------                        --------------    -----  \n",
            " 0   RouteID                       1457175 non-null  object \n",
            " 1   StopID                        1457175 non-null  object \n",
            " 2   PackageID                     1457175 non-null  object \n",
            " 3   scan_status                   1457175 non-null  object \n",
            " 4   start_time_utc                113993 non-null   object \n",
            " 5   end_time_utc                  113993 non-null   object \n",
            " 6   planned_service_time_seconds  1457175 non-null  float64\n",
            " 7   depth_cm                      1457175 non-null  float64\n",
            " 8   height_cm                     1457175 non-null  float64\n",
            " 9   width_cm                      1457175 non-null  float64\n",
            "dtypes: float64(4), object(6)\n",
            "memory usage: 111.2+ MB\n",
            "None\n",
            "       planned_service_time_seconds      depth_cm     height_cm      width_cm\n",
            "count                  1.457175e+06  1.457175e+06  1.457175e+06  1.457175e+06\n",
            "mean                   6.824058e+01  3.408561e+01  1.020402e+01  2.479370e+01\n",
            "std                    6.692090e+01  9.216008e+00  7.352263e+00  7.237969e+00\n",
            "min                    7.000000e-01  8.000000e-01  0.000000e+00  2.000000e-01\n",
            "25%                    3.650000e+01  2.620000e+01  4.800000e+00  1.780000e+01\n",
            "50%                    5.300000e+01  3.270000e+01  7.600000e+00  2.430000e+01\n",
            "75%                    7.800000e+01  3.940000e+01  1.270000e+01  2.920000e+01\n",
            "max                    8.007000e+03  1.321000e+02  8.380000e+01  1.016000e+02\n"
          ]
        }
      ]
    },
    {
      "cell_type": "code",
      "source": [
        "# Some important features in visualising parcel data\n",
        "plt.figure(figsize=(10, 6))\n",
        "sns.histplot(df['planned_service_time_seconds'], bins=30)\n",
        "plt.title('Distribution of Planned Service Time for Packages')\n",
        "plt.show()"
      ],
      "metadata": {
        "colab": {
          "base_uri": "https://localhost:8080/",
          "height": 564
        },
        "id": "Q1pezWzxa2kn",
        "outputId": "27c799a7-81a3-4fda-f0bf-a74ce649c271"
      },
      "execution_count": null,
      "outputs": [
        {
          "output_type": "display_data",
          "data": {
            "text/plain": [
              "<Figure size 1000x600 with 1 Axes>"
            ],
            "image/png": "[encoded data removed]"
          },
          "metadata": {}
        }
      ]
    },
    {
      "cell_type": "code",
      "source": [
        "# Plotting the distribution of parcel sizes\n",
        "plt.figure(figsize=(10, 6))\n",
        "sns.histplot(df['depth_cm'], bins=50, label='Depth')\n",
        "sns.histplot(df['height_cm'], bins=50, label='Height')\n",
        "sns.histplot(df['width_cm'], bins=50, label='Width')\n",
        "plt.title('Distribution of Package Dimensions')\n",
        "plt.xlabel('Dimension (cm)')\n",
        "plt.ylabel('Frequency')\n",
        "plt.legend()\n",
        "plt.show()\n"
      ],
      "metadata": {
        "colab": {
          "base_uri": "https://localhost:8080/"
        },
        "outputId": "30d4b59e-4a50-482b-e7d9-507b5e4ce62a",
        "id": "9YEzpW9bhR2e"
      },
      "execution_count": null,
      "outputs": [
        {
          "output_type": "display_data",
          "data": {
            "text/plain": [
              "<Figure size 1000x600 with 1 Axes>"
            ],
            "image/png": "[encoded data removed]"
          },
          "metadata": {}
        }
      ]
    },
    {
      "cell_type": "markdown",
      "source": [
        "## **travel_times**"
      ],
      "metadata": {
        "id": "nUVUreM0rzVW"
      }
    },
    {
      "cell_type": "code",
      "source": [
        "all_data = []\n",
        "\n",
        "# Read the split file\n",
        "for filename in os.listdir('/content/drive/MyDrive/travel_times_splitted_files'):\n",
        "    if filename.endswith('.json'):\n",
        "        with open(f'/content/drive/MyDrive/travel_times_splitted_files/{filename}') as f:\n",
        "            chunk_data = json.load(f)\n",
        "            for route_id, stops in chunk_data.items():\n",
        "                for stop_id, travel_times in stops.items():\n",
        "                    for to_stop_id, travel_time in travel_times.items():\n",
        "                        record = {\n",
        "                            'RouteID': route_id,\n",
        "                            'FromStopID': stop_id,\n",
        "                            'ToStopID': to_stop_id,\n",
        "                            'TravelTimeSeconds': travel_time\n",
        "                        }\n",
        "                        all_data.append(record)\n",
        "\n",
        "# create DataFrame\n",
        "travel_times_data2 = pd.DataFrame(all_data)\n",
        "\n",
        "# view DataFrame\n",
        "print(travel_times_data2.head())"
      ],
      "metadata": {
        "id": "vYErV70Yrwe5",
        "colab": {
          "base_uri": "https://localhost:8080/"
        },
        "outputId": "5e3c864f-5f11-4bf0-99a3-0c3d2cfca706"
      },
      "execution_count": null,
      "outputs": [
        {
          "output_type": "stream",
          "name": "stdout",
          "text": [
            "                                        RouteID FromStopID ToStopID  \\\n",
            "0  RouteID_00143bdd-0a6b-49ec-bb35-36593d303e77         AD       AD   \n",
            "1  RouteID_00143bdd-0a6b-49ec-bb35-36593d303e77         AD       AF   \n",
            "2  RouteID_00143bdd-0a6b-49ec-bb35-36593d303e77         AD       AG   \n",
            "3  RouteID_00143bdd-0a6b-49ec-bb35-36593d303e77         AD       BA   \n",
            "4  RouteID_00143bdd-0a6b-49ec-bb35-36593d303e77         AD       BE   \n",
            "\n",
            "   TravelTimeSeconds  \n",
            "0                0.0  \n",
            "1              198.3  \n",
            "2              264.9  \n",
            "3              268.9  \n",
            "4               89.4  \n"
          ]
        }
      ]
    },
    {
      "cell_type": "code",
      "source": [
        "all_data = []\n",
        "\n",
        "# Read the split file\n",
        "for filename in os.listdir('/content/drive/MyDrive/travel_times_splitted_files2'):\n",
        "    if filename.endswith('.json'):\n",
        "        with open(f'/content/drive/MyDrive/travel_times_splitted_files2/{filename}') as f:\n",
        "            chunk_data = json.load(f)\n",
        "            for route_id, stops in chunk_data.items():\n",
        "                for stop_id, travel_times in stops.items():\n",
        "                    for to_stop_id, travel_time in travel_times.items():\n",
        "                        record = {\n",
        "                            'RouteID': route_id,\n",
        "                            'FromStopID': stop_id,\n",
        "                            'ToStopID': to_stop_id,\n",
        "                            'TravelTimeSeconds': travel_time\n",
        "                        }\n",
        "                        all_data.append(record)\n",
        "\n",
        "# Create DataFrame\n",
        "travel_times_data = pd.DataFrame(all_data)\n",
        "\n",
        "# View DataFrame\n",
        "print(travel_times_data.head())"
      ],
      "metadata": {
        "colab": {
          "base_uri": "https://localhost:8080/"
        },
        "id": "USHILEHQ7kkW",
        "outputId": "f80b6e74-de3a-4802-ef90-268d34b8ed78"
      },
      "execution_count": null,
      "outputs": [
        {
          "output_type": "stream",
          "name": "stdout",
          "text": [
            "                                        RouteID FromStopID ToStopID  \\\n",
            "0  RouteID_969d30e1-bdf7-479a-8a80-af8d7ffaf89f         AC       AC   \n",
            "1  RouteID_969d30e1-bdf7-479a-8a80-af8d7ffaf89f         AC       AF   \n",
            "2  RouteID_969d30e1-bdf7-479a-8a80-af8d7ffaf89f         AC       BG   \n",
            "3  RouteID_969d30e1-bdf7-479a-8a80-af8d7ffaf89f         AC       BJ   \n",
            "4  RouteID_969d30e1-bdf7-479a-8a80-af8d7ffaf89f         AC       BK   \n",
            "\n",
            "   TravelTimeSeconds  \n",
            "0                0.0  \n",
            "1              211.4  \n",
            "2              462.8  \n",
            "3              117.1  \n",
            "4              407.3  \n"
          ]
        }
      ]
    },
    {
      "cell_type": "code",
      "source": [
        "combined_df = pd.concat([travel_times_data2,travel_times_data], ignore_index=True)\n",
        "# View merged data\n",
        "print(combined_df.head())"
      ],
      "metadata": {
        "colab": {
          "base_uri": "https://localhost:8080/"
        },
        "id": "5y38zBDW_Les",
        "outputId": "21681720-9fde-4d42-ab64-cd27d89b1033"
      },
      "execution_count": null,
      "outputs": [
        {
          "output_type": "stream",
          "name": "stdout",
          "text": [
            "                                        RouteID FromStopID ToStopID  \\\n",
            "0  RouteID_00143bdd-0a6b-49ec-bb35-36593d303e77         AD       AD   \n",
            "1  RouteID_00143bdd-0a6b-49ec-bb35-36593d303e77         AD       AF   \n",
            "2  RouteID_00143bdd-0a6b-49ec-bb35-36593d303e77         AD       AG   \n",
            "3  RouteID_00143bdd-0a6b-49ec-bb35-36593d303e77         AD       BA   \n",
            "4  RouteID_00143bdd-0a6b-49ec-bb35-36593d303e77         AD       BE   \n",
            "\n",
            "   TravelTimeSeconds  \n",
            "0                0.0  \n",
            "1              198.3  \n",
            "2              264.9  \n",
            "3              268.9  \n",
            "4               89.4  \n"
          ]
        }
      ]
    },
    {
      "cell_type": "code",
      "source": [
        "plt.figure(figsize=(10, 6))\n",
        "sns.histplot(combined_df['TravelTimeSeconds'], bins=30)\n",
        "plt.title('Distribution of Travel Times Between Stops')\n",
        "plt.show()"
      ],
      "metadata": {
        "colab": {
          "base_uri": "https://localhost:8080/",
          "height": 557
        },
        "id": "i7j87n6ziM2w",
        "outputId": "bba5ad1f-536b-44f4-bc87-2df3d73c727c"
      },
      "execution_count": null,
      "outputs": [
        {
          "output_type": "display_data",
          "data": {
            "text/plain": [
              "<Figure size 1000x600 with 1 Axes>"
            ],
            "image/png": "[encoded data removed]"
          },
          "metadata": {}
        }
      ]
    },
    {
      "cell_type": "code",
      "source": [
        "# Save to a new CSV file\n",
        "combined_df.to_csv('travel_times_data.csv', index=False)"
      ],
      "metadata": {
        "colab": {
          "base_uri": "https://localhost:8080/",
          "height": 217
        },
        "collapsed": true,
        "id": "luOp4jJv_ief",
        "outputId": "28b777a7-4a03-4203-f168-f0ec5bae0768"
      },
      "execution_count": null,
      "outputs": [
        {
          "output_type": "error",
          "ename": "KeyboardInterrupt",
          "evalue": "",
          "traceback": [
            "\u001b[0;31m---------------------------------------------------------------------------\u001b[0m",
            "\u001b[0;31mKeyboardInterrupt\u001b[0m                         Traceback (most recent call last)",
            "\u001b[0;32m<ipython-input-14-faca1f7b98f0>\u001b[0m in \u001b[0;36m<cell line: 2>\u001b[0;34m()\u001b[0m\n\u001b[1;32m      1\u001b[0m \u001b[0;31m# 保存到新的CSV文件\u001b[0m\u001b[0;34m\u001b[0m\u001b[0;34m\u001b[0m\u001b[0m\n\u001b[0;32m----> 2\u001b[0;31m \u001b[0mcombined_df\u001b[0m\u001b[0;34m.\u001b[0m\u001b[0mto_csv\u001b[0m\u001b[0;34m(\u001b[0m\u001b[0;34m'travel_times_data.csv'\u001b[0m\u001b[0;34m,\u001b[0m \u001b[0mindex\u001b[0m\u001b[0;34m=\u001b[0m\u001b[0;32mFalse\u001b[0m\u001b[0;34m)\u001b[0m\u001b[0;34m\u001b[0m\u001b[0;34m\u001b[0m\u001b[0m\n\u001b[0m",
            "\u001b[0;32m/usr/local/lib/python3.10/dist-packages/pandas/core/generic.py\u001b[0m in \u001b[0;36mto_csv\u001b[0;34m(self, path_or_buf, sep, na_rep, float_format, columns, header, index, index_label, mode, encoding, compression, quoting, quotechar, lineterminator, chunksize, date_format, doublequote, escapechar, decimal, errors, storage_options)\u001b[0m\n\u001b[1;32m   3770\u001b[0m         )\n\u001b[1;32m   3771\u001b[0m \u001b[0;34m\u001b[0m\u001b[0m\n\u001b[0;32m-> 3772\u001b[0;31m         return DataFrameRenderer(formatter).to_csv(\n\u001b[0m\u001b[1;32m   3773\u001b[0m             \u001b[0mpath_or_buf\u001b[0m\u001b[0;34m,\u001b[0m\u001b[0;34m\u001b[0m\u001b[0;34m\u001b[0m\u001b[0m\n\u001b[1;32m   3774\u001b[0m             \u001b[0mlineterminator\u001b[0m\u001b[0;34m=\u001b[0m\u001b[0mlineterminator\u001b[0m\u001b[0;34m,\u001b[0m\u001b[0;34m\u001b[0m\u001b[0;34m\u001b[0m\u001b[0m\n",
            "\u001b[0;32m/usr/local/lib/python3.10/dist-packages/pandas/io/formats/format.py\u001b[0m in \u001b[0;36mto_csv\u001b[0;34m(self, path_or_buf, encoding, sep, columns, index_label, mode, compression, quoting, quotechar, lineterminator, chunksize, date_format, doublequote, escapechar, errors, storage_options)\u001b[0m\n\u001b[1;32m   1184\u001b[0m             \u001b[0mformatter\u001b[0m\u001b[0;34m=\u001b[0m\u001b[0mself\u001b[0m\u001b[0;34m.\u001b[0m\u001b[0mfmt\u001b[0m\u001b[0;34m,\u001b[0m\u001b[0;34m\u001b[0m\u001b[0;34m\u001b[0m\u001b[0m\n\u001b[1;32m   1185\u001b[0m         )\n\u001b[0;32m-> 1186\u001b[0;31m         \u001b[0mcsv_formatter\u001b[0m\u001b[0;34m.\u001b[0m\u001b[0msave\u001b[0m\u001b[0;34m(\u001b[0m\u001b[0;34m)\u001b[0m\u001b[0;34m\u001b[0m\u001b[0;34m\u001b[0m\u001b[0m\n\u001b[0m\u001b[1;32m   1187\u001b[0m \u001b[0;34m\u001b[0m\u001b[0m\n\u001b[1;32m   1188\u001b[0m         \u001b[0;32mif\u001b[0m \u001b[0mcreated_buffer\u001b[0m\u001b[0;34m:\u001b[0m\u001b[0;34m\u001b[0m\u001b[0;34m\u001b[0m\u001b[0m\n",
            "\u001b[0;32m/usr/local/lib/python3.10/dist-packages/pandas/io/formats/csvs.py\u001b[0m in \u001b[0;36msave\u001b[0;34m(self)\u001b[0m\n\u001b[1;32m    257\u001b[0m             )\n\u001b[1;32m    258\u001b[0m \u001b[0;34m\u001b[0m\u001b[0m\n\u001b[0;32m--> 259\u001b[0;31m             \u001b[0mself\u001b[0m\u001b[0;34m.\u001b[0m\u001b[0m_save\u001b[0m\u001b[0;34m(\u001b[0m\u001b[0;34m)\u001b[0m\u001b[0;34m\u001b[0m\u001b[0;34m\u001b[0m\u001b[0m\n\u001b[0m\u001b[1;32m    260\u001b[0m \u001b[0;34m\u001b[0m\u001b[0m\n\u001b[1;32m    261\u001b[0m     \u001b[0;32mdef\u001b[0m \u001b[0m_save\u001b[0m\u001b[0;34m(\u001b[0m\u001b[0mself\u001b[0m\u001b[0;34m)\u001b[0m \u001b[0;34m->\u001b[0m \u001b[0;32mNone\u001b[0m\u001b[0;34m:\u001b[0m\u001b[0;34m\u001b[0m\u001b[0;34m\u001b[0m\u001b[0m\n",
            "\u001b[0;32m/usr/local/lib/python3.10/dist-packages/pandas/io/formats/csvs.py\u001b[0m in \u001b[0;36m_save\u001b[0;34m(self)\u001b[0m\n\u001b[1;32m    262\u001b[0m         \u001b[0;32mif\u001b[0m \u001b[0mself\u001b[0m\u001b[0;34m.\u001b[0m\u001b[0m_need_to_save_header\u001b[0m\u001b[0;34m:\u001b[0m\u001b[0;34m\u001b[0m\u001b[0;34m\u001b[0m\u001b[0m\n\u001b[1;32m    263\u001b[0m             \u001b[0mself\u001b[0m\u001b[0;34m.\u001b[0m\u001b[0m_save_header\u001b[0m\u001b[0;34m(\u001b[0m\u001b[0;34m)\u001b[0m\u001b[0;34m\u001b[0m\u001b[0;34m\u001b[0m\u001b[0m\n\u001b[0;32m--> 264\u001b[0;31m         \u001b[0mself\u001b[0m\u001b[0;34m.\u001b[0m\u001b[0m_save_body\u001b[0m\u001b[0;34m(\u001b[0m\u001b[0;34m)\u001b[0m\u001b[0;34m\u001b[0m\u001b[0;34m\u001b[0m\u001b[0m\n\u001b[0m\u001b[1;32m    265\u001b[0m \u001b[0;34m\u001b[0m\u001b[0m\n\u001b[1;32m    266\u001b[0m     \u001b[0;32mdef\u001b[0m \u001b[0m_save_header\u001b[0m\u001b[0;34m(\u001b[0m\u001b[0mself\u001b[0m\u001b[0;34m)\u001b[0m \u001b[0;34m->\u001b[0m \u001b[0;32mNone\u001b[0m\u001b[0;34m:\u001b[0m\u001b[0;34m\u001b[0m\u001b[0;34m\u001b[0m\u001b[0m\n",
            "\u001b[0;32m/usr/local/lib/python3.10/dist-packages/pandas/io/formats/csvs.py\u001b[0m in \u001b[0;36m_save_body\u001b[0;34m(self)\u001b[0m\n\u001b[1;32m    300\u001b[0m             \u001b[0;32mif\u001b[0m \u001b[0mstart_i\u001b[0m \u001b[0;34m>=\u001b[0m \u001b[0mend_i\u001b[0m\u001b[0;34m:\u001b[0m\u001b[0;34m\u001b[0m\u001b[0;34m\u001b[0m\u001b[0m\n\u001b[1;32m    301\u001b[0m                 \u001b[0;32mbreak\u001b[0m\u001b[0;34m\u001b[0m\u001b[0;34m\u001b[0m\u001b[0m\n\u001b[0;32m--> 302\u001b[0;31m             \u001b[0mself\u001b[0m\u001b[0;34m.\u001b[0m\u001b[0m_save_chunk\u001b[0m\u001b[0;34m(\u001b[0m\u001b[0mstart_i\u001b[0m\u001b[0;34m,\u001b[0m \u001b[0mend_i\u001b[0m\u001b[0;34m)\u001b[0m\u001b[0;34m\u001b[0m\u001b[0;34m\u001b[0m\u001b[0m\n\u001b[0m\u001b[1;32m    303\u001b[0m \u001b[0;34m\u001b[0m\u001b[0m\n\u001b[1;32m    304\u001b[0m     \u001b[0;32mdef\u001b[0m \u001b[0m_save_chunk\u001b[0m\u001b[0;34m(\u001b[0m\u001b[0mself\u001b[0m\u001b[0;34m,\u001b[0m \u001b[0mstart_i\u001b[0m\u001b[0;34m:\u001b[0m \u001b[0mint\u001b[0m\u001b[0;34m,\u001b[0m \u001b[0mend_i\u001b[0m\u001b[0;34m:\u001b[0m \u001b[0mint\u001b[0m\u001b[0;34m)\u001b[0m \u001b[0;34m->\u001b[0m \u001b[0;32mNone\u001b[0m\u001b[0;34m:\u001b[0m\u001b[0;34m\u001b[0m\u001b[0;34m\u001b[0m\u001b[0m\n",
            "\u001b[0;32m/usr/local/lib/python3.10/dist-packages/pandas/io/formats/csvs.py\u001b[0m in \u001b[0;36m_save_chunk\u001b[0;34m(self, start_i, end_i)\u001b[0m\n\u001b[1;32m    311\u001b[0m \u001b[0;34m\u001b[0m\u001b[0m\n\u001b[1;32m    312\u001b[0m         \u001b[0mix\u001b[0m \u001b[0;34m=\u001b[0m \u001b[0mself\u001b[0m\u001b[0;34m.\u001b[0m\u001b[0mdata_index\u001b[0m\u001b[0;34m[\u001b[0m\u001b[0mslicer\u001b[0m\u001b[0;34m]\u001b[0m\u001b[0;34m.\u001b[0m\u001b[0m_format_native_types\u001b[0m\u001b[0;34m(\u001b[0m\u001b[0;34m**\u001b[0m\u001b[0mself\u001b[0m\u001b[0;34m.\u001b[0m\u001b[0m_number_format\u001b[0m\u001b[0;34m)\u001b[0m\u001b[0;34m\u001b[0m\u001b[0;34m\u001b[0m\u001b[0m\n\u001b[0;32m--> 313\u001b[0;31m         libwriters.write_csv_rows(\n\u001b[0m\u001b[1;32m    314\u001b[0m             \u001b[0mdata\u001b[0m\u001b[0;34m,\u001b[0m\u001b[0;34m\u001b[0m\u001b[0;34m\u001b[0m\u001b[0m\n\u001b[1;32m    315\u001b[0m             \u001b[0mix\u001b[0m\u001b[0;34m,\u001b[0m\u001b[0;34m\u001b[0m\u001b[0;34m\u001b[0m\u001b[0m\n",
            "\u001b[0;32m/usr/local/lib/python3.10/dist-packages/pandas/_libs/writers.pyx\u001b[0m in \u001b[0;36mpandas._libs.writers.write_csv_rows\u001b[0;34m()\u001b[0m\n",
            "\u001b[0;31mKeyboardInterrupt\u001b[0m: "
          ]
        }
      ]
    },
    {
      "cell_type": "code",
      "source": [
        "print(combined_df.info())"
      ],
      "metadata": {
        "colab": {
          "base_uri": "https://localhost:8080/"
        },
        "id": "2sKPQcOp8Uv3",
        "outputId": "f6423b1e-257d-4b96-f6ad-a8b19dcd064f"
      },
      "execution_count": null,
      "outputs": [
        {
          "output_type": "stream",
          "name": "stdout",
          "text": [
            "<class 'pandas.core.frame.DataFrame'>\n",
            "RangeIndex: 139748173 entries, 0 to 139748172\n",
            "Data columns (total 4 columns):\n",
            " #   Column             Dtype  \n",
            "---  ------             -----  \n",
            " 0   RouteID            object \n",
            " 1   FromStopID         object \n",
            " 2   ToStopID           object \n",
            " 3   TravelTimeSeconds  float64\n",
            "dtypes: float64(1), object(3)\n",
            "memory usage: 4.2+ GB\n",
            "None\n"
          ]
        }
      ]
    },
    {
      "cell_type": "code",
      "source": [
        "print(combined_df.describe())"
      ],
      "metadata": {
        "colab": {
          "base_uri": "https://localhost:8080/"
        },
        "id": "U2WpO3MD8oOF",
        "outputId": "8f99048d-e182-4de7-b65e-55e9ad841815"
      },
      "execution_count": null,
      "outputs": [
        {
          "output_type": "stream",
          "name": "stdout",
          "text": [
            "       TravelTimeSeconds\n",
            "count       1.397482e+08\n",
            "mean        3.741115e+02\n",
            "std         2.730820e+02\n",
            "min         0.000000e+00\n",
            "25%         2.138000e+02\n",
            "50%         3.274000e+02\n",
            "75%         4.684000e+02\n",
            "max         5.751200e+03\n"
          ]
        }
      ]
    },
    {
      "cell_type": "markdown",
      "source": [
        "## **new_travel_times**"
      ],
      "metadata": {
        "id": "FNUNOaUHkafp"
      }
    },
    {
      "cell_type": "code",
      "source": [
        "all_data = []\n",
        "# Load the JSON data\n",
        "with open('/content/new_travel_times.json') as f:\n",
        "    data = json.load(f)\n",
        "# Reading split files\n",
        "for route_id, stops in data.items():\n",
        "  for stop_id, travel_times in stops.items():\n",
        "    for to_stop_id, travel_time in travel_times.items():\n",
        "      record = {\n",
        "          'RouteID': route_id,\n",
        "          'FromStopID': stop_id,\n",
        "          'ToStopID': to_stop_id,\n",
        "          'TravelTimeSeconds': travel_time\n",
        "      }\n",
        "      all_data.append(record)\n",
        "# Creating a DataFrame\n",
        "new_travel_times_data = pd.DataFrame(all_data)\n",
        "\n",
        "# Viewing DataFrame\n",
        "print(new_travel_times_data.head())"
      ],
      "metadata": {
        "colab": {
          "base_uri": "https://localhost:8080/"
        },
        "outputId": "c350391b-70df-4076-c6ba-8c833de909d4",
        "id": "wOvUJjjnkafy"
      },
      "execution_count": null,
      "outputs": [
        {
          "output_type": "stream",
          "name": "stdout",
          "text": [
            "                                        RouteID FromStopID ToStopID  \\\n",
            "0  RouteID_15baae2d-bf07-4967-956a-173d4036613f         AH       AH   \n",
            "1  RouteID_15baae2d-bf07-4967-956a-173d4036613f         AH       AK   \n",
            "2  RouteID_15baae2d-bf07-4967-956a-173d4036613f         AH       AN   \n",
            "3  RouteID_15baae2d-bf07-4967-956a-173d4036613f         AH       AU   \n",
            "4  RouteID_15baae2d-bf07-4967-956a-173d4036613f         AH       AV   \n",
            "\n",
            "   TravelTimeSeconds  \n",
            "0                0.0  \n",
            "1              287.4  \n",
            "2              249.4  \n",
            "3              476.9  \n",
            "4              421.2  \n"
          ]
        }
      ]
    },
    {
      "cell_type": "code",
      "source": [
        "# Save to a new CSV file\n",
        "new_travel_times_data.to_csv('new_travel_times_data.csv', index=False)"
      ],
      "metadata": {
        "collapsed": true,
        "id": "XEzX1huxkafz"
      },
      "execution_count": null,
      "outputs": []
    },
    {
      "cell_type": "code",
      "source": [
        "print(new_travel_times_data.info())"
      ],
      "metadata": {
        "colab": {
          "base_uri": "https://localhost:8080/"
        },
        "outputId": "766855cd-4785-4059-e316-7ff90cb5c9f9",
        "id": "sKxTEUuakafz"
      },
      "execution_count": null,
      "outputs": [
        {
          "output_type": "stream",
          "name": "stdout",
          "text": [
            "<class 'pandas.core.frame.DataFrame'>\n",
            "RangeIndex: 330793 entries, 0 to 330792\n",
            "Data columns (total 4 columns):\n",
            " #   Column             Non-Null Count   Dtype  \n",
            "---  ------             --------------   -----  \n",
            " 0   RouteID            330793 non-null  object \n",
            " 1   FromStopID         330793 non-null  object \n",
            " 2   ToStopID           330793 non-null  object \n",
            " 3   TravelTimeSeconds  330793 non-null  float64\n",
            "dtypes: float64(1), object(3)\n",
            "memory usage: 10.1+ MB\n",
            "None\n"
          ]
        }
      ]
    },
    {
      "cell_type": "code",
      "source": [
        "print(new_travel_times_data.describe())"
      ],
      "metadata": {
        "colab": {
          "base_uri": "https://localhost:8080/"
        },
        "outputId": "fa0bf61d-c070-40fd-f498-bc25701ef39e",
        "id": "DORp0xi2kafz"
      },
      "execution_count": null,
      "outputs": [
        {
          "output_type": "stream",
          "name": "stdout",
          "text": [
            "       TravelTimeSeconds\n",
            "count      330793.000000\n",
            "mean          384.466588\n",
            "std           330.632535\n",
            "min             0.000000\n",
            "25%           212.500000\n",
            "50%           319.500000\n",
            "75%           449.600000\n",
            "max          4011.300000\n"
          ]
        }
      ]
    },
    {
      "cell_type": "markdown",
      "source": [
        "## **route_data**"
      ],
      "metadata": {
        "id": "g1x5whsw9BCP"
      }
    },
    {
      "cell_type": "code",
      "source": [
        "route_data_list = []\n",
        "\n",
        "with open('/content/drive/MyDrive/route_data.json') as f:\n",
        "    data = json.load(f)\n",
        "\n",
        "for route_id, route_info in data.items():\n",
        "    station_code = route_info['station_code']\n",
        "    date = route_info['date_YYYY_MM_DD']\n",
        "    departure_time = route_info['departure_time_utc']\n",
        "    executor_capacity = route_info['executor_capacity_cm3']\n",
        "    route_score = route_info['route_score']\n",
        "    for stop_id, stop_info in route_info['stops'].items():\n",
        "        record = {\n",
        "            'RouteID':route_id,\n",
        "            'StationCode':station_code,\n",
        "            'Date':date,\n",
        "            'DepartureTime':departure_time,\n",
        "            'ExecutorCapacity': executor_capacity,\n",
        "            'RouteScore': route_score,\n",
        "            'StopID': stop_id,\n",
        "            'Latitude': stop_info['lat'],\n",
        "            'Longitude': stop_info['lng'],\n",
        "            'StopType': stop_info['type'],\n",
        "            'ZoneID': stop_info['zone_id']\n",
        "        }\n",
        "        route_data_list.append(record)\n",
        "\n",
        "route_data = pd.DataFrame(route_data_list)\n",
        "\n",
        "print(route_data.head())"
      ],
      "metadata": {
        "colab": {
          "base_uri": "https://localhost:8080/"
        },
        "id": "6vyJzG2M9AGp",
        "outputId": "73516a95-7fa3-4883-f7bc-a06c28d48c9b"
      },
      "execution_count": null,
      "outputs": [
        {
          "output_type": "stream",
          "name": "stdout",
          "text": [
            "                                        RouteID StationCode        Date  \\\n",
            "0  RouteID_00143bdd-0a6b-49ec-bb35-36593d303e77        DLA3  2018-07-27   \n",
            "1  RouteID_00143bdd-0a6b-49ec-bb35-36593d303e77        DLA3  2018-07-27   \n",
            "2  RouteID_00143bdd-0a6b-49ec-bb35-36593d303e77        DLA3  2018-07-27   \n",
            "3  RouteID_00143bdd-0a6b-49ec-bb35-36593d303e77        DLA3  2018-07-27   \n",
            "4  RouteID_00143bdd-0a6b-49ec-bb35-36593d303e77        DLA3  2018-07-27   \n",
            "\n",
            "  DepartureTime  ExecutorCapacity RouteScore StopID   Latitude   Longitude  \\\n",
            "0      16:02:10         3313071.0       High     AD  34.099611 -118.283062   \n",
            "1      16:02:10         3313071.0       High     AF  34.101587 -118.291125   \n",
            "2      16:02:10         3313071.0       High     AG  34.089727 -118.285530   \n",
            "3      16:02:10         3313071.0       High     BA  34.096132 -118.292869   \n",
            "4      16:02:10         3313071.0       High     BE  34.098482 -118.286243   \n",
            "\n",
            "  StopType   ZoneID  \n",
            "0  Dropoff  P-12.3C  \n",
            "1  Dropoff   A-1.2D  \n",
            "2  Dropoff   A-2.1A  \n",
            "3  Dropoff   A-1.2C  \n",
            "4  Dropoff  P-13.3B  \n"
          ]
        }
      ]
    },
    {
      "cell_type": "code",
      "source": [
        "# Extract area code\n",
        "route_data['AreaID'] = route_data['ZoneID'].str.extract('([A-Z]+)-')\n",
        "\n",
        "# View the updated DataFrame\n",
        "print(route_data.head())\n"
      ],
      "metadata": {
        "colab": {
          "base_uri": "https://localhost:8080/"
        },
        "id": "KDkTcRlmDagV",
        "outputId": "953aad0a-978a-4618-8430-194c9ad71c6a"
      },
      "execution_count": null,
      "outputs": [
        {
          "output_type": "stream",
          "name": "stdout",
          "text": [
            "                                        RouteID StationCode        Date  \\\n",
            "0  RouteID_00143bdd-0a6b-49ec-bb35-36593d303e77        DLA3  2018-07-27   \n",
            "1  RouteID_00143bdd-0a6b-49ec-bb35-36593d303e77        DLA3  2018-07-27   \n",
            "2  RouteID_00143bdd-0a6b-49ec-bb35-36593d303e77        DLA3  2018-07-27   \n",
            "3  RouteID_00143bdd-0a6b-49ec-bb35-36593d303e77        DLA3  2018-07-27   \n",
            "4  RouteID_00143bdd-0a6b-49ec-bb35-36593d303e77        DLA3  2018-07-27   \n",
            "\n",
            "  DepartureTime  ExecutorCapacity RouteScore StopID   Latitude   Longitude  \\\n",
            "0      16:02:10         3313071.0       High     AD  34.099611 -118.283062   \n",
            "1      16:02:10         3313071.0       High     AF  34.101587 -118.291125   \n",
            "2      16:02:10         3313071.0       High     AG  34.089727 -118.285530   \n",
            "3      16:02:10         3313071.0       High     BA  34.096132 -118.292869   \n",
            "4      16:02:10         3313071.0       High     BE  34.098482 -118.286243   \n",
            "\n",
            "  StopType   ZoneID AreaID  \n",
            "0  Dropoff  P-12.3C      P  \n",
            "1  Dropoff   A-1.2D      A  \n",
            "2  Dropoff   A-2.1A      A  \n",
            "3  Dropoff   A-1.2C      A  \n",
            "4  Dropoff  P-13.3B      P  \n"
          ]
        }
      ]
    },
    {
      "cell_type": "code",
      "source": [
        "route_data['DepartureTime'] = pd.to_datetime(route_data['DepartureTime'], format='%H:%M:%S').dt.time\n",
        "route_data['City'] = route_data['StationCode'].str[:3]  # Extract city information from StationCode\n",
        "route_data['StopCount'] = route_data.groupby('RouteID')['StopID'].transform('count')"
      ],
      "metadata": {
        "id": "x2P0-NIFayCP"
      },
      "execution_count": null,
      "outputs": []
    },
    {
      "cell_type": "code",
      "source": [
        "route_stops_summary = route_data.groupby(['City', 'RouteID']).agg({'StopCount': 'max'}).reset_index()"
      ],
      "metadata": {
        "id": "Gpa4Rv7S_pth"
      },
      "execution_count": null,
      "outputs": []
    },
    {
      "cell_type": "code",
      "source": [
        "#Mapping of the total number of stops on distribution routes in different metropolitan areas\n",
        "plt.figure(figsize=(14, 8))\n",
        "sns.barplot(x='City', y='StopCount', data=route_stops_summary, estimator=sum, ci=None)\n",
        "plt.title('Total Number of Stops Made by Each Route in Different Metropolitan Areas')\n",
        "plt.xlabel('Metropolitan Area')\n",
        "plt.ylabel('Total Number of Stops')\n",
        "plt.xticks(rotation=45)\n",
        "plt.show()"
      ],
      "metadata": {
        "colab": {
          "base_uri": "https://localhost:8080/",
          "height": 650
        },
        "id": "C1HIMpY8_pvF",
        "outputId": "a8d67c91-f631-4cb9-c1cd-b3a16fe85575"
      },
      "execution_count": null,
      "outputs": [
        {
          "output_type": "stream",
          "name": "stderr",
          "text": [
            "<ipython-input-12-5cb435ff1d04>:3: FutureWarning: \n",
            "\n",
            "The `ci` parameter is deprecated. Use `errorbar=None` for the same effect.\n",
            "\n",
            "  sns.barplot(x='City', y='StopCount', data=route_stops_summary, estimator=sum, ci=None)\n"
          ]
        },
        {
          "output_type": "display_data",
          "data": {
            "text/plain": [
              "<Figure size 1400x800 with 1 Axes>"
            ],
            "image/png": "[encoded data removed]"
          },
          "metadata": {}
        }
      ]
    },
    {
      "cell_type": "code",
      "source": [
        "def categorize_time(time):\n",
        "    if time < pd.to_datetime('06:00:00').time():\n",
        "        return 'Night'\n",
        "    elif time < pd.to_datetime('12:00:00').time():\n",
        "        return 'Morning'\n",
        "    elif time < pd.to_datetime('18:00:00').time():\n",
        "        return 'Afternoon'\n",
        "    else:\n",
        "        return 'Evening'\n",
        "\n",
        "route_data['TimePeriod'] = route_data['DepartureTime'].apply(categorize_time)"
      ],
      "metadata": {
        "id": "A6aK58v8a9KW"
      },
      "execution_count": null,
      "outputs": []
    },
    {
      "cell_type": "code",
      "source": [
        "print(route_data.info())"
      ],
      "metadata": {
        "colab": {
          "base_uri": "https://localhost:8080/"
        },
        "id": "dh_r0r0zD7af",
        "outputId": "6c5b77ec-3ac9-4ad8-81f7-940584bb77b4"
      },
      "execution_count": null,
      "outputs": [
        {
          "output_type": "stream",
          "name": "stdout",
          "text": [
            "<class 'pandas.core.frame.DataFrame'>\n",
            "RangeIndex: 904527 entries, 0 to 904526\n",
            "Data columns (total 12 columns):\n",
            " #   Column            Non-Null Count   Dtype  \n",
            "---  ------            --------------   -----  \n",
            " 0   RouteID           904527 non-null  object \n",
            " 1   StationCode       904527 non-null  object \n",
            " 2   Date              904527 non-null  object \n",
            " 3   DepartureTime     904527 non-null  object \n",
            " 4   ExecutorCapacity  904527 non-null  float64\n",
            " 5   RouteScore        904527 non-null  object \n",
            " 6   StopID            904527 non-null  object \n",
            " 7   Latitude          904527 non-null  float64\n",
            " 8   Longitude         904527 non-null  float64\n",
            " 9   StopType          904527 non-null  object \n",
            " 10  ZoneID            891900 non-null  object \n",
            " 11  TimePeriod        904527 non-null  object \n",
            "dtypes: float64(3), object(9)\n",
            "memory usage: 82.8+ MB\n",
            "None\n"
          ]
        }
      ]
    },
    {
      "cell_type": "code",
      "source": [
        "print(route_data.describe())"
      ],
      "metadata": {
        "colab": {
          "base_uri": "https://localhost:8080/"
        },
        "id": "HOqp_K8LDkTA",
        "outputId": "a8ab355a-e9e0-4a15-c369-fa16d64f62bd"
      },
      "execution_count": null,
      "outputs": [
        {
          "output_type": "stream",
          "name": "stdout",
          "text": [
            "       ExecutorCapacity       Latitude      Longitude\n",
            "count      9.045270e+05  904527.000000  904527.000000\n",
            "mean       3.608832e+06      38.880122    -105.342949\n",
            "std        4.350294e+05       5.497878      18.918070\n",
            "min        3.114853e+06      30.117288    -122.574461\n",
            "25%        3.313071e+06      33.900234    -118.308955\n",
            "50%        3.313071e+06      41.671818    -117.687989\n",
            "75%        4.247527e+06      42.290834     -88.016906\n",
            "max        4.247527e+06      48.129887     -70.757655\n"
          ]
        }
      ]
    },
    {
      "cell_type": "code",
      "source": [
        "# Distribution of departure times for plotted routes\n",
        "plt.figure(figsize=(10, 6))\n",
        "sns.countplot(x='TimePeriod', data=route_data, order=['Night', 'Morning', 'Afternoon', 'Evening'])\n",
        "plt.title('Distribution of Departure Times by Time Period')\n",
        "plt.xlabel('Time Period')\n",
        "plt.ylabel('Frequency')\n",
        "plt.show()"
      ],
      "metadata": {
        "id": "z_rYyMF-Y-0t",
        "colab": {
          "base_uri": "https://localhost:8080/",
          "height": 564
        },
        "outputId": "e4a27dcd-a1c8-4e3b-9d35-d1203f733373"
      },
      "execution_count": null,
      "outputs": [
        {
          "output_type": "display_data",
          "data": {
            "text/plain": [
              "<Figure size 1000x600 with 1 Axes>"
            ],
            "image/png": "[encoded data removed]"
          },
          "metadata": {}
        }
      ]
    },
    {
      "cell_type": "code",
      "source": [
        "编写"
      ],
      "metadata": {
        "id": "sL9npIE29Rrk"
      },
      "execution_count": null,
      "outputs": []
    },
    {
      "cell_type": "markdown",
      "source": [
        "## **new_route_data**"
      ],
      "metadata": {
        "id": "936kQ5u2lvGi"
      }
    },
    {
      "cell_type": "code",
      "source": [
        "# Creating an empty list to store data\n",
        "route_data_list = []\n",
        "\n",
        "with open('/content/new_route_data.json') as f:\n",
        "    data = json.load(f)\n",
        "\n",
        "# Traversing JSON Data\n",
        "for route_id, route_info in data.items():\n",
        "    station_code = route_info['station_code']\n",
        "    date = route_info['date_YYYY_MM_DD']\n",
        "    departure_time = route_info['departure_time_utc']\n",
        "    executor_capacity = route_info['executor_capacity_cm3']\n",
        "    for stop_id, stop_info in route_info['stops'].items():\n",
        "        record = {\n",
        "            'RouteID':route_id,\n",
        "            'StationCode':station_code,\n",
        "            'Date':date,\n",
        "            'DepartureTime':departure_time,\n",
        "            'ExecutorCapacity': executor_capacity,\n",
        "            'StopID': stop_id,\n",
        "            'Latitude': stop_info['lat'],\n",
        "            'Longitude': stop_info['lng'],\n",
        "            'StopType': stop_info['type'],\n",
        "            'ZoneID': stop_info['zone_id']\n",
        "        }\n",
        "        route_data_list.append(record)\n",
        "\n",
        "# Creating a DataFrame\n",
        "new_route_data = pd.DataFrame(route_data_list)\n",
        "print(new_route_data.head())"
      ],
      "metadata": {
        "colab": {
          "base_uri": "https://localhost:8080/"
        },
        "outputId": "204ac1a7-1d20-4161-d136-d9f85e002f7e",
        "id": "JcAh1G_0lvGr"
      },
      "execution_count": null,
      "outputs": [
        {
          "output_type": "stream",
          "name": "stdout",
          "text": [
            "                                        RouteID StationCode        Date  \\\n",
            "0  RouteID_15baae2d-bf07-4967-956a-173d4036613f        DCH4  2018-08-11   \n",
            "1  RouteID_15baae2d-bf07-4967-956a-173d4036613f        DCH4  2018-08-11   \n",
            "2  RouteID_15baae2d-bf07-4967-956a-173d4036613f        DCH4  2018-08-11   \n",
            "3  RouteID_15baae2d-bf07-4967-956a-173d4036613f        DCH4  2018-08-11   \n",
            "4  RouteID_15baae2d-bf07-4967-956a-173d4036613f        DCH4  2018-08-11   \n",
            "\n",
            "  DepartureTime  ExecutorCapacity StopID   Latitude  Longitude StopType  \\\n",
            "0      15:12:44         4247527.0     AH  42.129085 -88.027485  Dropoff   \n",
            "1      15:12:44         4247527.0     AK  42.133454 -88.043144  Dropoff   \n",
            "2      15:12:44         4247527.0     AN  42.129422 -88.037895  Dropoff   \n",
            "3      15:12:44         4247527.0     AU  42.107882 -88.035445  Dropoff   \n",
            "4      15:12:44         4247527.0     AV  42.138752 -88.041745  Dropoff   \n",
            "\n",
            "   ZoneID  \n",
            "0  D-8.3E  \n",
            "1  D-8.2H  \n",
            "2  D-8.2H  \n",
            "3  D-8.1C  \n",
            "4  D-7.1J  \n"
          ]
        }
      ]
    },
    {
      "cell_type": "code",
      "source": [
        "new_route_data['DepartureTime'] = pd.to_datetime(new_route_data['DepartureTime'], format='%H:%M:%S').dt.time"
      ],
      "metadata": {
        "id": "afsAGUUtlvGr"
      },
      "execution_count": null,
      "outputs": []
    },
    {
      "cell_type": "code",
      "source": [
        "def categorize_time(time):\n",
        "    if time < pd.to_datetime('06:00:00').time():\n",
        "        return 'Night'\n",
        "    elif time < pd.to_datetime('12:00:00').time():\n",
        "        return 'Morning'\n",
        "    elif time < pd.to_datetime('18:00:00').time():\n",
        "        return 'Afternoon'\n",
        "    else:\n",
        "        return 'Evening'\n",
        "\n",
        "new_route_data['TimePeriod'] = new_route_data['DepartureTime'].apply(categorize_time)"
      ],
      "metadata": {
        "id": "dFQuaBHvlvGs"
      },
      "execution_count": null,
      "outputs": []
    },
    {
      "cell_type": "code",
      "source": [
        "print(new_route_data.info())"
      ],
      "metadata": {
        "colab": {
          "base_uri": "https://localhost:8080/"
        },
        "outputId": "13ee1e65-c326-4dd0-e184-94ebb6032794",
        "id": "m1Db20nGlvGs"
      },
      "execution_count": null,
      "outputs": [
        {
          "output_type": "stream",
          "name": "stdout",
          "text": [
            "<class 'pandas.core.frame.DataFrame'>\n",
            "RangeIndex: 2051 entries, 0 to 2050\n",
            "Data columns (total 10 columns):\n",
            " #   Column            Non-Null Count  Dtype  \n",
            "---  ------            --------------  -----  \n",
            " 0   RouteID           2051 non-null   object \n",
            " 1   StationCode       2051 non-null   object \n",
            " 2   Date              2051 non-null   object \n",
            " 3   DepartureTime     2051 non-null   object \n",
            " 4   ExecutorCapacity  2051 non-null   float64\n",
            " 5   StopID            2051 non-null   object \n",
            " 6   Latitude          2051 non-null   float64\n",
            " 7   Longitude         2051 non-null   float64\n",
            " 8   StopType          2051 non-null   object \n",
            " 9   ZoneID            2022 non-null   object \n",
            "dtypes: float64(3), object(7)\n",
            "memory usage: 160.4+ KB\n",
            "None\n"
          ]
        }
      ]
    },
    {
      "cell_type": "code",
      "source": [
        "print(new_route_data.describe())"
      ],
      "metadata": {
        "colab": {
          "base_uri": "https://localhost:8080/"
        },
        "outputId": "60cfbe20-1e66-4116-d59a-7775f474e2d2",
        "id": "vSOAFJ5OlvGs"
      },
      "execution_count": null,
      "outputs": [
        {
          "output_type": "stream",
          "name": "stdout",
          "text": [
            "       ExecutorCapacity     Latitude    Longitude\n",
            "count      2.051000e+03  2051.000000  2051.000000\n",
            "mean       3.671636e+06    39.848454  -105.840215\n",
            "std        4.545273e+05     5.564662    19.407800\n",
            "min        3.313071e+06    33.656927  -122.392860\n",
            "25%        3.313071e+06    33.962353  -118.083570\n",
            "50%        3.313071e+06    42.133652  -117.676684\n",
            "75%        4.247527e+06    42.302304   -88.046611\n",
            "max        4.247527e+06    47.937344   -70.923849\n"
          ]
        }
      ]
    },
    {
      "cell_type": "code",
      "source": [
        "# Distribution of departure times for plotted routes\n",
        "plt.figure(figsize=(10, 6))\n",
        "sns.countplot(x='TimePeriod', data=new_route_data, order=['Night', 'Morning', 'Afternoon', 'Evening'])\n",
        "plt.title('Distribution of Departure Times by Time Period')\n",
        "plt.xlabel('Time Period')\n",
        "plt.ylabel('Frequency')\n",
        "plt.show()"
      ],
      "metadata": {
        "colab": {
          "base_uri": "https://localhost:8080/",
          "height": 564
        },
        "outputId": "58c5b9c3-d6cb-480e-ef2c-970ad5cf4a3f",
        "id": "XzCBsWFrlvGs"
      },
      "execution_count": null,
      "outputs": [
        {
          "output_type": "display_data",
          "data": {
            "text/plain": [
              "<Figure size 1000x600 with 1 Axes>"
            ],
            "image/png": "[encoded data removed]"
          },
          "metadata": {}
        }
      ]
    },
    {
      "cell_type": "code",
      "source": [
        "# Save to a new CSV file\n",
        "new_route_data.to_csv('new_route_data.csv', index=False)"
      ],
      "metadata": {
        "id": "DciKqIhomhdU"
      },
      "execution_count": null,
      "outputs": []
    },
    {
      "cell_type": "markdown",
      "source": [
        "# **Data merge**"
      ],
      "metadata": {
        "id": "CfZAIdoiVEri"
      }
    },
    {
      "cell_type": "code",
      "source": [
        "# merge data\n",
        "merged_data = pd.merge(route_data, df, on=['RouteID', 'StopID'],how='inner')\n",
        "#merged_data = pd.merge(merged_data, combined_df, left_on=['RouteID', 'StopID'], right_on=['RouteID', 'FromStopID'], how='left')\n",
        "merged_data = pd.merge(merged_data, invalid_sequence_scores, on='RouteID', how='left')\n",
        "\n",
        "# View merged data\n",
        "print(merged_data.head())\n"
      ],
      "metadata": {
        "colab": {
          "base_uri": "https://localhost:8080/"
        },
        "id": "-ELFOgV0VC2J",
        "outputId": "0286dc57-2352-4c50-d7d2-d331b0c668e5"
      },
      "execution_count": null,
      "outputs": [
        {
          "output_type": "stream",
          "name": "stdout",
          "text": [
            "                                        RouteID StationCode        Date  \\\n",
            "0  RouteID_00143bdd-0a6b-49ec-bb35-36593d303e77        DLA3  2018-07-27   \n",
            "1  RouteID_00143bdd-0a6b-49ec-bb35-36593d303e77        DLA3  2018-07-27   \n",
            "2  RouteID_00143bdd-0a6b-49ec-bb35-36593d303e77        DLA3  2018-07-27   \n",
            "3  RouteID_00143bdd-0a6b-49ec-bb35-36593d303e77        DLA3  2018-07-27   \n",
            "4  RouteID_00143bdd-0a6b-49ec-bb35-36593d303e77        DLA3  2018-07-27   \n",
            "\n",
            "  DepartureTime  ExecutorCapacity RouteScore StopID   Latitude   Longitude  \\\n",
            "0      16:02:10         3313071.0       High     AD  34.099611 -118.283062   \n",
            "1      16:02:10         3313071.0       High     AD  34.099611 -118.283062   \n",
            "2      16:02:10         3313071.0       High     AD  34.099611 -118.283062   \n",
            "3      16:02:10         3313071.0       High     AF  34.101587 -118.291125   \n",
            "4      16:02:10         3313071.0       High     AG  34.089727 -118.285530   \n",
            "\n",
            "  StopType  ... TimePeriod                                       PackageID  \\\n",
            "0  Dropoff  ...  Afternoon  PackageID_9d7fdd03-f2cf-4c6f-9128-028258fc09ea   \n",
            "1  Dropoff  ...  Afternoon  PackageID_5541e679-b7bd-4992-b288-e862f6c84ae7   \n",
            "2  Dropoff  ...  Afternoon  PackageID_84d0295b-1adb-4a33-a65e-f7d6247c7a07   \n",
            "3  Dropoff  ...  Afternoon  PackageID_15c6a204-ec5f-4ced-9c3d-472316cc7759   \n",
            "4  Dropoff  ...  Afternoon  PackageID_3b28f781-242e-416e-9575-84c7188b8208   \n",
            "\n",
            "  scan_status       start_time_utc         end_time_utc  \\\n",
            "0   DELIVERED                  NaN                  NaN   \n",
            "1   DELIVERED  2018-07-27 16:00:00  2018-07-28 00:00:00   \n",
            "2   DELIVERED                  NaN                  NaN   \n",
            "3   DELIVERED  2018-07-27 16:00:00  2018-07-28 00:00:00   \n",
            "4   DELIVERED                  NaN                  NaN   \n",
            "\n",
            "  planned_service_time_seconds  depth_cm  height_cm  width_cm  \\\n",
            "0                         59.3      25.4        7.6      17.8   \n",
            "1                         59.3      25.4       12.7      17.8   \n",
            "2                         59.3      39.4        7.6      31.8   \n",
            "3                         27.0      30.0        3.0      27.4   \n",
            "4                         45.0      25.4       12.7      17.8   \n",
            "\n",
            "   InvalidSequenceScore  \n",
            "0              0.631275  \n",
            "1              0.631275  \n",
            "2              0.631275  \n",
            "3              0.631275  \n",
            "4              0.631275  \n",
            "\n",
            "[5 rows x 21 columns]\n"
          ]
        }
      ]
    },
    {
      "cell_type": "markdown",
      "source": [],
      "metadata": {
        "id": "RbV-3dJrCtzX"
      }
    },
    {
      "cell_type": "markdown",
      "source": [
        "#**Model Application Data EDA**"
      ],
      "metadata": {
        "id": "ucmKtH99EZTj"
      }
    },
    {
      "cell_type": "code",
      "execution_count": null,
      "metadata": {
        "colab": {
          "base_uri": "https://localhost:8080/"
        },
        "collapsed": true,
        "id": "6jdYso1yDP72",
        "outputId": "b143f8c9-9e07-469f-e9d0-3c6f3e94bbfa"
      },
      "outputs": [
        {
          "output_type": "stream",
          "name": "stdout",
          "text": [
            "                                        RouteID StopID  \\\n",
            "0  RouteID_15baae2d-bf07-4967-956a-173d4036613f     AH   \n",
            "1  RouteID_15baae2d-bf07-4967-956a-173d4036613f     AK   \n",
            "2  RouteID_15baae2d-bf07-4967-956a-173d4036613f     AN   \n",
            "3  RouteID_15baae2d-bf07-4967-956a-173d4036613f     AU   \n",
            "4  RouteID_15baae2d-bf07-4967-956a-173d4036613f     AV   \n",
            "\n",
            "                                        PackageID StartTimeUTC EndTimeUTC  \\\n",
            "0  PackageID_07017709-2ddd-4c6a-8b7e-ebde70a4f0fa          NaN        NaN   \n",
            "1  PackageID_30d78e0b-3dfd-4123-a392-a187ee55c789          NaN        NaN   \n",
            "2  PackageID_31472e01-c4ac-4281-b9ae-281a152f0d53          NaN        NaN   \n",
            "3  PackageID_180d6ed8-e08c-4a2a-972c-b0d6f1bd68ed          NaN        NaN   \n",
            "4  PackageID_9b96689a-99ef-4fc3-9281-ad7442c746ec          NaN        NaN   \n",
            "\n",
            "   PlannedServiceTimeSeconds  DepthCm  HeightCm  WidthCm  \n",
            "0                       78.0     36.1       7.1     20.8  \n",
            "1                      157.0     28.2       4.8     25.7  \n",
            "2                       60.0     27.4       5.6     24.9  \n",
            "3                       33.0     30.5       2.5     27.9  \n",
            "4                       47.0     30.5       3.8     22.9  \n",
            "                                        RouteID StationCode       Date  \\\n",
            "0  RouteID_15baae2d-bf07-4967-956a-173d4036613f        DCH4  8/11/2018   \n",
            "1  RouteID_15baae2d-bf07-4967-956a-173d4036613f        DCH4  8/11/2018   \n",
            "2  RouteID_15baae2d-bf07-4967-956a-173d4036613f        DCH4  8/11/2018   \n",
            "3  RouteID_15baae2d-bf07-4967-956a-173d4036613f        DCH4  8/11/2018   \n",
            "4  RouteID_15baae2d-bf07-4967-956a-173d4036613f        DCH4  8/11/2018   \n",
            "\n",
            "  DepartureTimeUTC  ExecutorCapacityCm3 StopID   Latitude  Longitude     Type  \\\n",
            "0         15:12:44              4247527     AH  42.129085 -88.027485  Dropoff   \n",
            "1         15:12:44              4247527     AK  42.133454 -88.043144  Dropoff   \n",
            "2         15:12:44              4247527     AN  42.129422 -88.037895  Dropoff   \n",
            "3         15:12:44              4247527     AU  42.107882 -88.035445  Dropoff   \n",
            "4         15:12:44              4247527     AV  42.138752 -88.041745  Dropoff   \n",
            "\n",
            "   ZoneID  \n",
            "0  D-8.3E  \n",
            "1  D-8.2H  \n",
            "2  D-8.2H  \n",
            "3  D-8.1C  \n",
            "4  D-7.1J  \n",
            "                                        RouteID StopID  \\\n",
            "0  RouteID_15baae2d-bf07-4967-956a-173d4036613f     AH   \n",
            "1  RouteID_15baae2d-bf07-4967-956a-173d4036613f     AK   \n",
            "2  RouteID_15baae2d-bf07-4967-956a-173d4036613f     AN   \n",
            "3  RouteID_15baae2d-bf07-4967-956a-173d4036613f     AU   \n",
            "4  RouteID_15baae2d-bf07-4967-956a-173d4036613f     AV   \n",
            "\n",
            "                                        PackageID StartTimeUTC EndTimeUTC  \\\n",
            "0  PackageID_07017709-2ddd-4c6a-8b7e-ebde70a4f0fa          NaN        NaN   \n",
            "1  PackageID_30d78e0b-3dfd-4123-a392-a187ee55c789          NaN        NaN   \n",
            "2  PackageID_31472e01-c4ac-4281-b9ae-281a152f0d53          NaN        NaN   \n",
            "3  PackageID_180d6ed8-e08c-4a2a-972c-b0d6f1bd68ed          NaN        NaN   \n",
            "4  PackageID_9b96689a-99ef-4fc3-9281-ad7442c746ec          NaN        NaN   \n",
            "\n",
            "   PlannedServiceTimeSeconds  DepthCm  HeightCm  WidthCm  \n",
            "0                       78.0     36.1       7.1     20.8  \n",
            "1                      157.0     28.2       4.8     25.7  \n",
            "2                       60.0     27.4       5.6     24.9  \n",
            "3                       33.0     30.5       2.5     27.9  \n",
            "4                       47.0     30.5       3.8     22.9  \n",
            "                                        RouteID FromStopID ToStopID  \\\n",
            "0  RouteID_15baae2d-bf07-4967-956a-173d4036613f         AH       AH   \n",
            "1  RouteID_15baae2d-bf07-4967-956a-173d4036613f         AH       AK   \n",
            "2  RouteID_15baae2d-bf07-4967-956a-173d4036613f         AH       AN   \n",
            "3  RouteID_15baae2d-bf07-4967-956a-173d4036613f         AH       AU   \n",
            "4  RouteID_15baae2d-bf07-4967-956a-173d4036613f         AH       AV   \n",
            "\n",
            "   TravelTimeSeconds  \n",
            "0                0.0  \n",
            "1              287.4  \n",
            "2              249.4  \n",
            "3              476.9  \n",
            "4              421.2  \n",
            "<class 'pandas.core.frame.DataFrame'>\n",
            "RangeIndex: 3129 entries, 0 to 3128\n",
            "Data columns (total 9 columns):\n",
            " #   Column                     Non-Null Count  Dtype  \n",
            "---  ------                     --------------  -----  \n",
            " 0   RouteID                    3129 non-null   object \n",
            " 1   StopID                     3127 non-null   object \n",
            " 2   PackageID                  3129 non-null   object \n",
            " 3   StartTimeUTC               210 non-null    object \n",
            " 4   EndTimeUTC                 210 non-null    object \n",
            " 5   PlannedServiceTimeSeconds  3129 non-null   float64\n",
            " 6   DepthCm                    3129 non-null   float64\n",
            " 7   HeightCm                   3129 non-null   float64\n",
            " 8   WidthCm                    3129 non-null   float64\n",
            "dtypes: float64(4), object(5)\n",
            "memory usage: 220.1+ KB\n",
            "None\n",
            "<class 'pandas.core.frame.DataFrame'>\n",
            "RangeIndex: 2051 entries, 0 to 2050\n",
            "Data columns (total 10 columns):\n",
            " #   Column               Non-Null Count  Dtype  \n",
            "---  ------               --------------  -----  \n",
            " 0   RouteID              2051 non-null   object \n",
            " 1   StationCode          2051 non-null   object \n",
            " 2   Date                 2051 non-null   object \n",
            " 3   DepartureTimeUTC     2051 non-null   object \n",
            " 4   ExecutorCapacityCm3  2051 non-null   int64  \n",
            " 5   StopID               2049 non-null   object \n",
            " 6   Latitude             2051 non-null   float64\n",
            " 7   Longitude            2051 non-null   float64\n",
            " 8   Type                 2051 non-null   object \n",
            " 9   ZoneID               2022 non-null   object \n",
            "dtypes: float64(2), int64(1), object(7)\n",
            "memory usage: 160.4+ KB\n",
            "None\n",
            "<class 'pandas.core.frame.DataFrame'>\n",
            "RangeIndex: 3129 entries, 0 to 3128\n",
            "Data columns (total 9 columns):\n",
            " #   Column                     Non-Null Count  Dtype  \n",
            "---  ------                     --------------  -----  \n",
            " 0   RouteID                    3129 non-null   object \n",
            " 1   StopID                     3127 non-null   object \n",
            " 2   PackageID                  3129 non-null   object \n",
            " 3   StartTimeUTC               210 non-null    object \n",
            " 4   EndTimeUTC                 210 non-null    object \n",
            " 5   PlannedServiceTimeSeconds  3129 non-null   float64\n",
            " 6   DepthCm                    3129 non-null   float64\n",
            " 7   HeightCm                   3129 non-null   float64\n",
            " 8   WidthCm                    3129 non-null   float64\n",
            "dtypes: float64(4), object(5)\n",
            "memory usage: 220.1+ KB\n",
            "None\n",
            "<class 'pandas.core.frame.DataFrame'>\n",
            "RangeIndex: 330793 entries, 0 to 330792\n",
            "Data columns (total 4 columns):\n",
            " #   Column             Non-Null Count   Dtype  \n",
            "---  ------             --------------   -----  \n",
            " 0   RouteID            330793 non-null  object \n",
            " 1   FromStopID         330488 non-null  object \n",
            " 2   ToStopID           330488 non-null  object \n",
            " 3   TravelTimeSeconds  330793 non-null  float64\n",
            "dtypes: float64(1), object(3)\n",
            "memory usage: 10.1+ MB\n",
            "None\n"
          ]
        }
      ],
      "source": [
        "#reading relative data\n",
        "package_data = pd.read_csv('new_package_data.csv')\n",
        "route_info = pd.read_csv('new_route_info.csv')\n",
        "stop_info = pd.read_csv('new_stop_info.csv')\n",
        "travel_times = pd.read_csv('new_travel_times.csv')\n",
        "\n",
        "# View previous rows of data\n",
        "print(package_data.head())\n",
        "print(route_info.head())\n",
        "print(stop_info.head())\n",
        "print(travel_times.head())\n",
        "\n",
        "# Check the basic information of the data\n",
        "print(package_data.info())\n",
        "print(route_info.info())\n",
        "print(stop_info.info())\n",
        "print(travel_times.info())"
      ]
    },
    {
      "cell_type": "code",
      "source": [
        "# Checking for missing values\n",
        "print(package_data.isnull().sum())\n",
        "print(route_info.isnull().sum())\n",
        "print(stop_info.isnull().sum())\n",
        "print(travel_times.isnull().sum())"
      ],
      "metadata": {
        "colab": {
          "base_uri": "https://localhost:8080/"
        },
        "id": "RgNNIIDMEgxG",
        "outputId": "d2f1dbf4-1c45-4629-acab-071e8a9c73b5"
      },
      "execution_count": null,
      "outputs": [
        {
          "output_type": "stream",
          "name": "stdout",
          "text": [
            "RouteID                         0\n",
            "StopID                          2\n",
            "PackageID                       0\n",
            "StartTimeUTC                 2919\n",
            "EndTimeUTC                   2919\n",
            "PlannedServiceTimeSeconds       0\n",
            "DepthCm                         0\n",
            "HeightCm                        0\n",
            "WidthCm                         0\n",
            "dtype: int64\n",
            "RouteID                 0\n",
            "StationCode             0\n",
            "Date                    0\n",
            "DepartureTimeUTC        0\n",
            "ExecutorCapacityCm3     0\n",
            "StopID                  2\n",
            "Latitude                0\n",
            "Longitude               0\n",
            "Type                    0\n",
            "ZoneID                 29\n",
            "dtype: int64\n",
            "RouteID                         0\n",
            "StopID                          2\n",
            "PackageID                       0\n",
            "StartTimeUTC                 2919\n",
            "EndTimeUTC                   2919\n",
            "PlannedServiceTimeSeconds       0\n",
            "DepthCm                         0\n",
            "HeightCm                        0\n",
            "WidthCm                         0\n",
            "dtype: int64\n",
            "RouteID                0\n",
            "FromStopID           305\n",
            "ToStopID             305\n",
            "TravelTimeSeconds      0\n",
            "dtype: int64\n"
          ]
        }
      ]
    },
    {
      "cell_type": "code",
      "source": [
        "# Data consolidation\n",
        "# Consolidation of data\n",
        "merged_data = pd.merge(route_info, package_data, on=['RouteID', 'StopID'])\n",
        "merged_data = pd.merge(merged_data, stop_info, on=['RouteID', 'StopID'])\n",
        "merged_data = pd.merge(merged_data, travel_times, left_on=['RouteID', 'StopID'], right_on=['RouteID', 'FromStopID'])\n",
        "\n",
        "# View merged data\n",
        "print(merged_data.head())"
      ],
      "metadata": {
        "id": "20zuA_wmH1GA"
      },
      "execution_count": null,
      "outputs": []
    },
    {
      "cell_type": "code",
      "source": [
        "# Feature engineering:Construct new features such as total transit time, service time per stop, etc.\n",
        "# Calculate total transit time for each route\n",
        "merged_data['TotalTravelTime'] = merged_data.groupby('RouteID')['TravelTimeSeconds'].transform('sum')\n",
        "\n",
        "# Check out the new features\n",
        "print(merged_data[['RouteID', 'TotalTravelTime']].drop_duplicates().head())\n"
      ],
      "metadata": {
        "id": "RKS8cuN3IlTi"
      },
      "execution_count": null,
      "outputs": []
    },
    {
      "cell_type": "code",
      "source": [
        "# descriptive statistics\n",
        "print(merged_data.describe())"
      ],
      "metadata": {
        "id": "y-Cp_XTPIwrr"
      },
      "execution_count": null,
      "outputs": []
    },
    {
      "cell_type": "code",
      "source": [
        "# Data Distribution Visualisation:Visualise data distribution, identify outliers and data patterns through histograms, box plots, etc.\n",
        "# Plot transport time distribution\n",
        "plt.figure(figsize=(10, 6))\n",
        "sns.histplot(merged_data['TravelTimeSeconds'], bins=50)\n",
        "plt.title('Distribution of Travel Time')\n",
        "plt.xlabel('Travel Time (seconds)')\n",
        "plt.ylabel('Frequency')\n",
        "plt.show()\n",
        "\n",
        "# Plot box plots to view data distribution and outliers\n",
        "plt.figure(figsize=(10, 6))\n",
        "sns.boxplot(x=merged_data['TravelTimeSeconds'])\n",
        "plt.title('Boxplot of Travel Time')\n",
        "plt.xlabel('Travel Time (seconds)')\n",
        "plt.show()\n"
      ],
      "metadata": {
        "id": "vRfCfa6_H8xZ"
      },
      "execution_count": null,
      "outputs": []
    },
    {
      "cell_type": "code",
      "source": [
        "# Variable Relationship Analysis:Analyse the relationship between variables by means of scatter plots, heat maps, and more.\n",
        "# Scatterplot to analyse the relationship between two variables\n",
        "plt.figure(figsize=(10, 6))\n",
        "sns.scatterplot(x=merged_data['DepthCm'], y=merged_data['HeightCm'])\n",
        "plt.title('Scatterplot of Depth vs Height')\n",
        "plt.xlabel('Depth (cm)')\n",
        "plt.ylabel('Height (cm)')\n",
        "plt.show()\n",
        "\n",
        "# Correlation matrix and heat map\n",
        "correlation_matrix = merged_data.corr()\n",
        "plt.figure(figsize=(12, 8))\n",
        "sns.heatmap(correlation_matrix, annot=True, cmap='coolwarm')\n",
        "plt.title('Correlation Matrix')\n",
        "plt.show()\n"
      ],
      "metadata": {
        "id": "DtfsT4v8IL9v"
      },
      "execution_count": null,
      "outputs": []
    },
    {
      "cell_type": "code",
      "source": [
        "# Target variable analysis\n",
        "# Subgroup statistical analyses\n",
        "grouped_data = merged_data.groupby('RouteID')['TravelTimeSeconds'].mean()\n",
        "print(grouped_data)\n",
        "# Grouping box line diagrams\n",
        "plt.figure(figsize=(12, 8))\n",
        "sns.boxplot(x='RouteID', y='TravelTimeSeconds', data=merged_data)\n",
        "plt.title('Boxplot of Travel Time by RouteID')\n",
        "plt.xlabel('RouteID')\n",
        "plt.ylabel('Travel Time (seconds)')\n",
        "plt.show()\n"
      ],
      "metadata": {
        "id": "6iZn1EPJISZN"
      },
      "execution_count": null,
      "outputs": []
    },
    {
      "cell_type": "code",
      "source": [
        "# Saving of processed data\n",
        "merged_data.to_csv('processed_data.csv', index=False)"
      ],
      "metadata": {
        "id": "cpZXHfOtIaAA"
      },
      "execution_count": null,
      "outputs": []
    }
  ]
}